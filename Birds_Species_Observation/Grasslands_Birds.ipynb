{
 "cells": [
  {
   "cell_type": "code",
   "execution_count": 82,
   "id": "91fe4286",
   "metadata": {},
   "outputs": [],
   "source": [
    "import pandas as pd\n",
    "import matplotlib.pyplot as plt\n",
    "import seaborn as sns"
   ]
  },
  {
   "cell_type": "code",
   "execution_count": null,
   "id": "88221cce",
   "metadata": {},
   "outputs": [
    {
     "data": {
      "text/html": [
       "<div>\n",
       "<style scoped>\n",
       "    .dataframe tbody tr th:only-of-type {\n",
       "        vertical-align: middle;\n",
       "    }\n",
       "\n",
       "    .dataframe tbody tr th {\n",
       "        vertical-align: top;\n",
       "    }\n",
       "\n",
       "    .dataframe thead th {\n",
       "        text-align: right;\n",
       "    }\n",
       "</style>\n",
       "<table border=\"1\" class=\"dataframe\">\n",
       "  <thead>\n",
       "    <tr style=\"text-align: right;\">\n",
       "      <th></th>\n",
       "      <th>Admin_Unit_Code</th>\n",
       "      <th>Sub_Unit_Code</th>\n",
       "      <th>Plot_Name</th>\n",
       "      <th>Location_Type</th>\n",
       "      <th>Year</th>\n",
       "      <th>Date</th>\n",
       "      <th>Start_Time</th>\n",
       "      <th>End_Time</th>\n",
       "      <th>Observer</th>\n",
       "      <th>Visit</th>\n",
       "      <th>...</th>\n",
       "      <th>AOU_Code</th>\n",
       "      <th>PIF_Watchlist_Status</th>\n",
       "      <th>Regional_Stewardship_Status</th>\n",
       "      <th>Temperature</th>\n",
       "      <th>Humidity</th>\n",
       "      <th>Sky</th>\n",
       "      <th>Wind</th>\n",
       "      <th>Disturbance</th>\n",
       "      <th>Previously_Obs</th>\n",
       "      <th>Initial_Three_Min_Cnt</th>\n",
       "    </tr>\n",
       "  </thead>\n",
       "  <tbody>\n",
       "    <tr>\n",
       "      <th>0</th>\n",
       "      <td>ANTI</td>\n",
       "      <td>NaN</td>\n",
       "      <td>ANTI-0054</td>\n",
       "      <td>Grassland</td>\n",
       "      <td>2018</td>\n",
       "      <td>2018-05-22</td>\n",
       "      <td>05:35:00</td>\n",
       "      <td>05:45:00</td>\n",
       "      <td>Elizabeth Oswald</td>\n",
       "      <td>1</td>\n",
       "      <td>...</td>\n",
       "      <td>CHSP</td>\n",
       "      <td>False</td>\n",
       "      <td>False</td>\n",
       "      <td>20.0</td>\n",
       "      <td>79.0</td>\n",
       "      <td>Cloudy/Overcast</td>\n",
       "      <td>Light breeze (4-7 mph) wind felt on face</td>\n",
       "      <td>Slight effect on count</td>\n",
       "      <td>False</td>\n",
       "      <td>True</td>\n",
       "    </tr>\n",
       "    <tr>\n",
       "      <th>1</th>\n",
       "      <td>ANTI</td>\n",
       "      <td>NaN</td>\n",
       "      <td>ANTI-0054</td>\n",
       "      <td>Grassland</td>\n",
       "      <td>2018</td>\n",
       "      <td>2018-05-22</td>\n",
       "      <td>05:35:00</td>\n",
       "      <td>05:45:00</td>\n",
       "      <td>Elizabeth Oswald</td>\n",
       "      <td>1</td>\n",
       "      <td>...</td>\n",
       "      <td>EABL</td>\n",
       "      <td>False</td>\n",
       "      <td>False</td>\n",
       "      <td>20.0</td>\n",
       "      <td>79.0</td>\n",
       "      <td>Cloudy/Overcast</td>\n",
       "      <td>Light breeze (4-7 mph) wind felt on face</td>\n",
       "      <td>Slight effect on count</td>\n",
       "      <td>False</td>\n",
       "      <td>False</td>\n",
       "    </tr>\n",
       "    <tr>\n",
       "      <th>2</th>\n",
       "      <td>ANTI</td>\n",
       "      <td>NaN</td>\n",
       "      <td>ANTI-0054</td>\n",
       "      <td>Grassland</td>\n",
       "      <td>2018</td>\n",
       "      <td>2018-05-22</td>\n",
       "      <td>05:35:00</td>\n",
       "      <td>05:45:00</td>\n",
       "      <td>Elizabeth Oswald</td>\n",
       "      <td>1</td>\n",
       "      <td>...</td>\n",
       "      <td>GRSP</td>\n",
       "      <td>False</td>\n",
       "      <td>False</td>\n",
       "      <td>20.0</td>\n",
       "      <td>79.0</td>\n",
       "      <td>Cloudy/Overcast</td>\n",
       "      <td>Light breeze (4-7 mph) wind felt on face</td>\n",
       "      <td>Slight effect on count</td>\n",
       "      <td>False</td>\n",
       "      <td>True</td>\n",
       "    </tr>\n",
       "    <tr>\n",
       "      <th>3</th>\n",
       "      <td>ANTI</td>\n",
       "      <td>NaN</td>\n",
       "      <td>ANTI-0054</td>\n",
       "      <td>Grassland</td>\n",
       "      <td>2018</td>\n",
       "      <td>2018-05-22</td>\n",
       "      <td>05:35:00</td>\n",
       "      <td>05:45:00</td>\n",
       "      <td>Elizabeth Oswald</td>\n",
       "      <td>1</td>\n",
       "      <td>...</td>\n",
       "      <td>EABL</td>\n",
       "      <td>False</td>\n",
       "      <td>False</td>\n",
       "      <td>20.0</td>\n",
       "      <td>79.0</td>\n",
       "      <td>Cloudy/Overcast</td>\n",
       "      <td>Light breeze (4-7 mph) wind felt on face</td>\n",
       "      <td>Slight effect on count</td>\n",
       "      <td>False</td>\n",
       "      <td>True</td>\n",
       "    </tr>\n",
       "    <tr>\n",
       "      <th>4</th>\n",
       "      <td>ANTI</td>\n",
       "      <td>NaN</td>\n",
       "      <td>ANTI-0054</td>\n",
       "      <td>Grassland</td>\n",
       "      <td>2018</td>\n",
       "      <td>2018-05-22</td>\n",
       "      <td>05:35:00</td>\n",
       "      <td>05:45:00</td>\n",
       "      <td>Elizabeth Oswald</td>\n",
       "      <td>1</td>\n",
       "      <td>...</td>\n",
       "      <td>FISP</td>\n",
       "      <td>False</td>\n",
       "      <td>True</td>\n",
       "      <td>20.0</td>\n",
       "      <td>79.0</td>\n",
       "      <td>Cloudy/Overcast</td>\n",
       "      <td>Light breeze (4-7 mph) wind felt on face</td>\n",
       "      <td>Slight effect on count</td>\n",
       "      <td>False</td>\n",
       "      <td>True</td>\n",
       "    </tr>\n",
       "  </tbody>\n",
       "</table>\n",
       "<p>5 rows × 29 columns</p>\n",
       "</div>"
      ],
      "text/plain": [
       "  Admin_Unit_Code  Sub_Unit_Code  Plot_Name Location_Type  Year       Date  \\\n",
       "0            ANTI            NaN  ANTI-0054     Grassland  2018 2018-05-22   \n",
       "1            ANTI            NaN  ANTI-0054     Grassland  2018 2018-05-22   \n",
       "2            ANTI            NaN  ANTI-0054     Grassland  2018 2018-05-22   \n",
       "3            ANTI            NaN  ANTI-0054     Grassland  2018 2018-05-22   \n",
       "4            ANTI            NaN  ANTI-0054     Grassland  2018 2018-05-22   \n",
       "\n",
       "  Start_Time  End_Time          Observer  Visit  ... AOU_Code  \\\n",
       "0   05:35:00  05:45:00  Elizabeth Oswald      1  ...     CHSP   \n",
       "1   05:35:00  05:45:00  Elizabeth Oswald      1  ...     EABL   \n",
       "2   05:35:00  05:45:00  Elizabeth Oswald      1  ...     GRSP   \n",
       "3   05:35:00  05:45:00  Elizabeth Oswald      1  ...     EABL   \n",
       "4   05:35:00  05:45:00  Elizabeth Oswald      1  ...     FISP   \n",
       "\n",
       "  PIF_Watchlist_Status Regional_Stewardship_Status  Temperature Humidity  \\\n",
       "0                False                       False         20.0     79.0   \n",
       "1                False                       False         20.0     79.0   \n",
       "2                False                       False         20.0     79.0   \n",
       "3                False                       False         20.0     79.0   \n",
       "4                False                        True         20.0     79.0   \n",
       "\n",
       "               Sky                                      Wind  \\\n",
       "0  Cloudy/Overcast  Light breeze (4-7 mph) wind felt on face   \n",
       "1  Cloudy/Overcast  Light breeze (4-7 mph) wind felt on face   \n",
       "2  Cloudy/Overcast  Light breeze (4-7 mph) wind felt on face   \n",
       "3  Cloudy/Overcast  Light breeze (4-7 mph) wind felt on face   \n",
       "4  Cloudy/Overcast  Light breeze (4-7 mph) wind felt on face   \n",
       "\n",
       "              Disturbance  Previously_Obs Initial_Three_Min_Cnt  \n",
       "0  Slight effect on count           False                  True  \n",
       "1  Slight effect on count           False                 False  \n",
       "2  Slight effect on count           False                  True  \n",
       "3  Slight effect on count           False                  True  \n",
       "4  Slight effect on count           False                  True  \n",
       "\n",
       "[5 rows x 29 columns]"
      ]
     },
     "execution_count": 2,
     "metadata": {},
     "output_type": "execute_result"
    }
   ],
   "source": [
    "file_path=r\"\"   # paste the file path\n",
    "df = pd.read_excel(file_path)\n",
    "df.head()"
   ]
  },
  {
   "cell_type": "code",
   "execution_count": 3,
   "id": "e2f46884",
   "metadata": {},
   "outputs": [
    {
     "name": "stdout",
     "output_type": "stream",
     "text": [
      "['ANTI', 'CATO', 'CHOH', 'GWMP', 'HAFE', 'MANA', 'MONO', 'NACE', 'PRWI', 'ROCR', 'WOTR']\n"
     ]
    }
   ],
   "source": [
    "xls = pd.ExcelFile(file_path, engine='openpyxl')\n",
    "\n",
    "# List all sheet names\n",
    "print(xls.sheet_names)"
   ]
  },
  {
   "cell_type": "code",
   "execution_count": 4,
   "id": "af1eccfb",
   "metadata": {},
   "outputs": [],
   "source": [
    "all_sheets = pd.read_excel(file_path, sheet_name=None, engine='openpyxl')\n",
    "df_ANTI = all_sheets['ANTI']\n",
    "df_CATO = all_sheets['CATO']\n",
    "df_CHOH = all_sheets['CHOH']\n",
    "df_GWMP = all_sheets['GWMP']\n",
    "df_HAFE = all_sheets['HAFE']\n",
    "df_MANA = all_sheets['MANA']\n",
    "df_MONO = all_sheets['MONO']\n",
    "df_NACE = all_sheets['NACE']\n",
    "df_PRWI = all_sheets['PRWI']\n",
    "df_ROCR = all_sheets['ROCR']\n",
    "df_WOTR = all_sheets['WOTR']"
   ]
  },
  {
   "cell_type": "code",
   "execution_count": null,
   "id": "279137e8",
   "metadata": {},
   "outputs": [],
   "source": [
    "combined_df = pd.concat(all_sheets.values(), ignore_index=True)\n",
    "combined_df.head()"
   ]
  },
  {
   "cell_type": "code",
   "execution_count": 6,
   "id": "1dc45820",
   "metadata": {},
   "outputs": [
    {
     "data": {
      "text/html": [
       "<div>\n",
       "<style scoped>\n",
       "    .dataframe tbody tr th:only-of-type {\n",
       "        vertical-align: middle;\n",
       "    }\n",
       "\n",
       "    .dataframe tbody tr th {\n",
       "        vertical-align: top;\n",
       "    }\n",
       "\n",
       "    .dataframe thead th {\n",
       "        text-align: right;\n",
       "    }\n",
       "</style>\n",
       "<table border=\"1\" class=\"dataframe\">\n",
       "  <thead>\n",
       "    <tr style=\"text-align: right;\">\n",
       "      <th></th>\n",
       "      <th>Admin_Unit_Code</th>\n",
       "      <th>Sub_Unit_Code</th>\n",
       "      <th>Plot_Name</th>\n",
       "      <th>Location_Type</th>\n",
       "      <th>Year</th>\n",
       "      <th>Date</th>\n",
       "      <th>Start_Time</th>\n",
       "      <th>End_Time</th>\n",
       "      <th>Observer</th>\n",
       "      <th>Visit</th>\n",
       "      <th>...</th>\n",
       "      <th>PIF_Watchlist_Status</th>\n",
       "      <th>Regional_Stewardship_Status</th>\n",
       "      <th>Temperature</th>\n",
       "      <th>Humidity</th>\n",
       "      <th>Sky</th>\n",
       "      <th>Wind</th>\n",
       "      <th>Disturbance</th>\n",
       "      <th>Previously_Obs</th>\n",
       "      <th>Initial_Three_Min_Cnt</th>\n",
       "      <th>SheetName</th>\n",
       "    </tr>\n",
       "  </thead>\n",
       "  <tbody>\n",
       "    <tr>\n",
       "      <th>0</th>\n",
       "      <td>ANTI</td>\n",
       "      <td>NaN</td>\n",
       "      <td>ANTI-0054</td>\n",
       "      <td>Grassland</td>\n",
       "      <td>2018</td>\n",
       "      <td>2018-05-22</td>\n",
       "      <td>05:35:00</td>\n",
       "      <td>05:45:00</td>\n",
       "      <td>Elizabeth Oswald</td>\n",
       "      <td>1</td>\n",
       "      <td>...</td>\n",
       "      <td>False</td>\n",
       "      <td>False</td>\n",
       "      <td>20.0</td>\n",
       "      <td>79.0</td>\n",
       "      <td>Cloudy/Overcast</td>\n",
       "      <td>Light breeze (4-7 mph) wind felt on face</td>\n",
       "      <td>Slight effect on count</td>\n",
       "      <td>False</td>\n",
       "      <td>True</td>\n",
       "      <td>ANTI</td>\n",
       "    </tr>\n",
       "    <tr>\n",
       "      <th>1</th>\n",
       "      <td>ANTI</td>\n",
       "      <td>NaN</td>\n",
       "      <td>ANTI-0054</td>\n",
       "      <td>Grassland</td>\n",
       "      <td>2018</td>\n",
       "      <td>2018-05-22</td>\n",
       "      <td>05:35:00</td>\n",
       "      <td>05:45:00</td>\n",
       "      <td>Elizabeth Oswald</td>\n",
       "      <td>1</td>\n",
       "      <td>...</td>\n",
       "      <td>False</td>\n",
       "      <td>False</td>\n",
       "      <td>20.0</td>\n",
       "      <td>79.0</td>\n",
       "      <td>Cloudy/Overcast</td>\n",
       "      <td>Light breeze (4-7 mph) wind felt on face</td>\n",
       "      <td>Slight effect on count</td>\n",
       "      <td>False</td>\n",
       "      <td>False</td>\n",
       "      <td>ANTI</td>\n",
       "    </tr>\n",
       "    <tr>\n",
       "      <th>2</th>\n",
       "      <td>ANTI</td>\n",
       "      <td>NaN</td>\n",
       "      <td>ANTI-0054</td>\n",
       "      <td>Grassland</td>\n",
       "      <td>2018</td>\n",
       "      <td>2018-05-22</td>\n",
       "      <td>05:35:00</td>\n",
       "      <td>05:45:00</td>\n",
       "      <td>Elizabeth Oswald</td>\n",
       "      <td>1</td>\n",
       "      <td>...</td>\n",
       "      <td>False</td>\n",
       "      <td>False</td>\n",
       "      <td>20.0</td>\n",
       "      <td>79.0</td>\n",
       "      <td>Cloudy/Overcast</td>\n",
       "      <td>Light breeze (4-7 mph) wind felt on face</td>\n",
       "      <td>Slight effect on count</td>\n",
       "      <td>False</td>\n",
       "      <td>True</td>\n",
       "      <td>ANTI</td>\n",
       "    </tr>\n",
       "    <tr>\n",
       "      <th>3</th>\n",
       "      <td>ANTI</td>\n",
       "      <td>NaN</td>\n",
       "      <td>ANTI-0054</td>\n",
       "      <td>Grassland</td>\n",
       "      <td>2018</td>\n",
       "      <td>2018-05-22</td>\n",
       "      <td>05:35:00</td>\n",
       "      <td>05:45:00</td>\n",
       "      <td>Elizabeth Oswald</td>\n",
       "      <td>1</td>\n",
       "      <td>...</td>\n",
       "      <td>False</td>\n",
       "      <td>False</td>\n",
       "      <td>20.0</td>\n",
       "      <td>79.0</td>\n",
       "      <td>Cloudy/Overcast</td>\n",
       "      <td>Light breeze (4-7 mph) wind felt on face</td>\n",
       "      <td>Slight effect on count</td>\n",
       "      <td>False</td>\n",
       "      <td>True</td>\n",
       "      <td>ANTI</td>\n",
       "    </tr>\n",
       "    <tr>\n",
       "      <th>4</th>\n",
       "      <td>ANTI</td>\n",
       "      <td>NaN</td>\n",
       "      <td>ANTI-0054</td>\n",
       "      <td>Grassland</td>\n",
       "      <td>2018</td>\n",
       "      <td>2018-05-22</td>\n",
       "      <td>05:35:00</td>\n",
       "      <td>05:45:00</td>\n",
       "      <td>Elizabeth Oswald</td>\n",
       "      <td>1</td>\n",
       "      <td>...</td>\n",
       "      <td>False</td>\n",
       "      <td>True</td>\n",
       "      <td>20.0</td>\n",
       "      <td>79.0</td>\n",
       "      <td>Cloudy/Overcast</td>\n",
       "      <td>Light breeze (4-7 mph) wind felt on face</td>\n",
       "      <td>Slight effect on count</td>\n",
       "      <td>False</td>\n",
       "      <td>True</td>\n",
       "      <td>ANTI</td>\n",
       "    </tr>\n",
       "  </tbody>\n",
       "</table>\n",
       "<p>5 rows × 30 columns</p>\n",
       "</div>"
      ],
      "text/plain": [
       "  Admin_Unit_Code  Sub_Unit_Code  Plot_Name Location_Type  Year       Date  \\\n",
       "0            ANTI            NaN  ANTI-0054     Grassland  2018 2018-05-22   \n",
       "1            ANTI            NaN  ANTI-0054     Grassland  2018 2018-05-22   \n",
       "2            ANTI            NaN  ANTI-0054     Grassland  2018 2018-05-22   \n",
       "3            ANTI            NaN  ANTI-0054     Grassland  2018 2018-05-22   \n",
       "4            ANTI            NaN  ANTI-0054     Grassland  2018 2018-05-22   \n",
       "\n",
       "  Start_Time  End_Time          Observer  Visit  ... PIF_Watchlist_Status  \\\n",
       "0   05:35:00  05:45:00  Elizabeth Oswald      1  ...                False   \n",
       "1   05:35:00  05:45:00  Elizabeth Oswald      1  ...                False   \n",
       "2   05:35:00  05:45:00  Elizabeth Oswald      1  ...                False   \n",
       "3   05:35:00  05:45:00  Elizabeth Oswald      1  ...                False   \n",
       "4   05:35:00  05:45:00  Elizabeth Oswald      1  ...                False   \n",
       "\n",
       "  Regional_Stewardship_Status Temperature  Humidity              Sky  \\\n",
       "0                       False        20.0      79.0  Cloudy/Overcast   \n",
       "1                       False        20.0      79.0  Cloudy/Overcast   \n",
       "2                       False        20.0      79.0  Cloudy/Overcast   \n",
       "3                       False        20.0      79.0  Cloudy/Overcast   \n",
       "4                        True        20.0      79.0  Cloudy/Overcast   \n",
       "\n",
       "                                       Wind             Disturbance  \\\n",
       "0  Light breeze (4-7 mph) wind felt on face  Slight effect on count   \n",
       "1  Light breeze (4-7 mph) wind felt on face  Slight effect on count   \n",
       "2  Light breeze (4-7 mph) wind felt on face  Slight effect on count   \n",
       "3  Light breeze (4-7 mph) wind felt on face  Slight effect on count   \n",
       "4  Light breeze (4-7 mph) wind felt on face  Slight effect on count   \n",
       "\n",
       "   Previously_Obs  Initial_Three_Min_Cnt SheetName  \n",
       "0           False                   True      ANTI  \n",
       "1           False                  False      ANTI  \n",
       "2           False                   True      ANTI  \n",
       "3           False                   True      ANTI  \n",
       "4           False                   True      ANTI  \n",
       "\n",
       "[5 rows x 30 columns]"
      ]
     },
     "execution_count": 6,
     "metadata": {},
     "output_type": "execute_result"
    }
   ],
   "source": [
    "# Load all sheets\n",
    "all_sheets = pd.read_excel(file_path, sheet_name=None, engine='openpyxl')\n",
    "df_list = []\n",
    "\n",
    "for name, sheet in all_sheets.items():\n",
    "    # Drop rows where all columns are NaN\n",
    "    sheet_clean = sheet.dropna(how='all')\n",
    "    \n",
    "    # Only process non-empty sheets\n",
    "    if not sheet_clean.empty:\n",
    "        sheet_clean['SheetName'] = name  # Tag the sheet name\n",
    "        df_list.append(sheet_clean)\n",
    "\n",
    "# Combine only valid sheets\n",
    "combined_df = pd.concat(df_list, ignore_index=True)\n",
    "\n",
    "# Preview\n",
    "combined_df.head()\n"
   ]
  },
  {
   "cell_type": "code",
   "execution_count": 7,
   "id": "616f96ba",
   "metadata": {},
   "outputs": [
    {
     "name": "stdout",
     "output_type": "stream",
     "text": [
      "Rows: 8531 Columns: 30\n"
     ]
    }
   ],
   "source": [
    "print(\"Rows:\", combined_df.shape[0], \"Columns:\", combined_df.shape[1])"
   ]
  },
  {
   "cell_type": "code",
   "execution_count": 8,
   "id": "3cbc496a",
   "metadata": {},
   "outputs": [
    {
     "name": "stdout",
     "output_type": "stream",
     "text": [
      "\n",
      "Columns:\n",
      "['Admin_Unit_Code', 'Sub_Unit_Code', 'Plot_Name', 'Location_Type', 'Year', 'Date', 'Start_Time', 'End_Time', 'Observer', 'Visit', 'Interval_Length', 'ID_Method', 'Distance', 'Flyover_Observed', 'Sex', 'Common_Name', 'Scientific_Name', 'AcceptedTSN', 'TaxonCode', 'AOU_Code', 'PIF_Watchlist_Status', 'Regional_Stewardship_Status', 'Temperature', 'Humidity', 'Sky', 'Wind', 'Disturbance', 'Previously_Obs', 'Initial_Three_Min_Cnt', 'SheetName']\n"
     ]
    }
   ],
   "source": [
    "print(\"\\nColumns:\")\n",
    "print(combined_df.columns.tolist())"
   ]
  },
  {
   "cell_type": "code",
   "execution_count": 9,
   "id": "31039dfa",
   "metadata": {},
   "outputs": [
    {
     "name": "stdout",
     "output_type": "stream",
     "text": [
      "<class 'pandas.core.frame.DataFrame'>\n",
      "RangeIndex: 8531 entries, 0 to 8530\n",
      "Data columns (total 30 columns):\n",
      " #   Column                       Non-Null Count  Dtype         \n",
      "---  ------                       --------------  -----         \n",
      " 0   Admin_Unit_Code              8531 non-null   object        \n",
      " 1   Sub_Unit_Code                0 non-null      float64       \n",
      " 2   Plot_Name                    8531 non-null   object        \n",
      " 3   Location_Type                8531 non-null   object        \n",
      " 4   Year                         8531 non-null   int64         \n",
      " 5   Date                         8531 non-null   datetime64[ns]\n",
      " 6   Start_Time                   8531 non-null   object        \n",
      " 7   End_Time                     8531 non-null   object        \n",
      " 8   Observer                     8531 non-null   object        \n",
      " 9   Visit                        8531 non-null   int64         \n",
      " 10  Interval_Length              8531 non-null   object        \n",
      " 11  ID_Method                    8530 non-null   object        \n",
      " 12  Distance                     7137 non-null   object        \n",
      " 13  Flyover_Observed             8531 non-null   bool          \n",
      " 14  Sex                          8531 non-null   object        \n",
      " 15  Common_Name                  8531 non-null   object        \n",
      " 16  Scientific_Name              8531 non-null   object        \n",
      " 17  AcceptedTSN                  8507 non-null   float64       \n",
      " 18  TaxonCode                    8529 non-null   float64       \n",
      " 19  AOU_Code                     8531 non-null   object        \n",
      " 20  PIF_Watchlist_Status         8531 non-null   bool          \n",
      " 21  Regional_Stewardship_Status  8531 non-null   bool          \n",
      " 22  Temperature                  8531 non-null   float64       \n",
      " 23  Humidity                     8531 non-null   float64       \n",
      " 24  Sky                          8531 non-null   object        \n",
      " 25  Wind                         8531 non-null   object        \n",
      " 26  Disturbance                  8531 non-null   object        \n",
      " 27  Previously_Obs               8531 non-null   bool          \n",
      " 28  Initial_Three_Min_Cnt        8531 non-null   bool          \n",
      " 29  SheetName                    8531 non-null   object        \n",
      "dtypes: bool(5), datetime64[ns](1), float64(5), int64(2), object(17)\n",
      "memory usage: 1.7+ MB\n"
     ]
    }
   ],
   "source": [
    "combined_df.info()"
   ]
  },
  {
   "cell_type": "code",
   "execution_count": 10,
   "id": "32ba529d",
   "metadata": {},
   "outputs": [
    {
     "data": {
      "text/plain": [
       "Sub_Unit_Code    8531\n",
       "ID_Method           1\n",
       "Distance         1394\n",
       "AcceptedTSN        24\n",
       "TaxonCode           2\n",
       "dtype: int64"
      ]
     },
     "execution_count": 10,
     "metadata": {},
     "output_type": "execute_result"
    }
   ],
   "source": [
    "missing = combined_df.isnull().sum()\n",
    "missing[missing > 0]"
   ]
  },
  {
   "cell_type": "code",
   "execution_count": 11,
   "id": "2ba6730e",
   "metadata": {},
   "outputs": [],
   "source": [
    "# Strip whitespaces from column names\n",
    "combined_df.columns = combined_df.columns.str.strip()"
   ]
  },
  {
   "cell_type": "code",
   "execution_count": 12,
   "id": "72866003",
   "metadata": {},
   "outputs": [],
   "source": [
    "# Standardize column names (optional, for consistency)\n",
    "combined_df.columns = combined_df.columns.str.lower().str.replace(' ', '_')"
   ]
  },
  {
   "cell_type": "code",
   "execution_count": 13,
   "id": "7843485a",
   "metadata": {},
   "outputs": [
    {
     "name": "stdout",
     "output_type": "stream",
     "text": [
      "sub_unit_code                  100.000000\n",
      "distance                        16.340406\n",
      "acceptedtsn                      0.281327\n",
      "taxoncode                        0.023444\n",
      "id_method                        0.011722\n",
      "admin_unit_code                  0.000000\n",
      "initial_three_min_cnt            0.000000\n",
      "previously_obs                   0.000000\n",
      "disturbance                      0.000000\n",
      "wind                             0.000000\n",
      "sky                              0.000000\n",
      "humidity                         0.000000\n",
      "temperature                      0.000000\n",
      "regional_stewardship_status      0.000000\n",
      "pif_watchlist_status             0.000000\n",
      "aou_code                         0.000000\n",
      "common_name                      0.000000\n",
      "scientific_name                  0.000000\n",
      "sex                              0.000000\n",
      "flyover_observed                 0.000000\n",
      "interval_length                  0.000000\n",
      "visit                            0.000000\n",
      "observer                         0.000000\n",
      "end_time                         0.000000\n",
      "start_time                       0.000000\n",
      "date                             0.000000\n",
      "year                             0.000000\n",
      "location_type                    0.000000\n",
      "plot_name                        0.000000\n",
      "sheetname                        0.000000\n",
      "dtype: float64\n"
     ]
    }
   ],
   "source": [
    "# Percentage of missing values\n",
    "print((combined_df.isnull().mean() * 100).sort_values(ascending=False))"
   ]
  },
  {
   "cell_type": "code",
   "execution_count": 14,
   "id": "0c9792e7",
   "metadata": {},
   "outputs": [],
   "source": [
    "# Drop columns with too many missing values (e.g., >50%)\n",
    "threshold = 0.5\n",
    "combined_df = combined_df.loc[:, combined_df.isnull().mean() < threshold]"
   ]
  },
  {
   "cell_type": "code",
   "execution_count": 15,
   "id": "5a055d34",
   "metadata": {},
   "outputs": [
    {
     "data": {
      "text/plain": [
       "1705"
      ]
     },
     "execution_count": 15,
     "metadata": {},
     "output_type": "execute_result"
    }
   ],
   "source": [
    "combined_df.duplicated().sum()"
   ]
  },
  {
   "cell_type": "code",
   "execution_count": 16,
   "id": "aea2af3e",
   "metadata": {},
   "outputs": [],
   "source": [
    "combined_df = combined_df.drop_duplicates()"
   ]
  },
  {
   "cell_type": "code",
   "execution_count": 17,
   "id": "49645980",
   "metadata": {},
   "outputs": [
    {
     "data": {
      "text/html": [
       "<div>\n",
       "<style scoped>\n",
       "    .dataframe tbody tr th:only-of-type {\n",
       "        vertical-align: middle;\n",
       "    }\n",
       "\n",
       "    .dataframe tbody tr th {\n",
       "        vertical-align: top;\n",
       "    }\n",
       "\n",
       "    .dataframe thead th {\n",
       "        text-align: right;\n",
       "    }\n",
       "</style>\n",
       "<table border=\"1\" class=\"dataframe\">\n",
       "  <thead>\n",
       "    <tr style=\"text-align: right;\">\n",
       "      <th></th>\n",
       "      <th>admin_unit_code</th>\n",
       "      <th>plot_name</th>\n",
       "      <th>location_type</th>\n",
       "      <th>year</th>\n",
       "      <th>date</th>\n",
       "      <th>start_time</th>\n",
       "      <th>end_time</th>\n",
       "      <th>observer</th>\n",
       "      <th>visit</th>\n",
       "      <th>interval_length</th>\n",
       "      <th>...</th>\n",
       "      <th>pif_watchlist_status</th>\n",
       "      <th>regional_stewardship_status</th>\n",
       "      <th>temperature</th>\n",
       "      <th>humidity</th>\n",
       "      <th>sky</th>\n",
       "      <th>wind</th>\n",
       "      <th>disturbance</th>\n",
       "      <th>previously_obs</th>\n",
       "      <th>initial_three_min_cnt</th>\n",
       "      <th>sheetname</th>\n",
       "    </tr>\n",
       "  </thead>\n",
       "  <tbody>\n",
       "    <tr>\n",
       "      <th>0</th>\n",
       "      <td>ANTI</td>\n",
       "      <td>ANTI-0054</td>\n",
       "      <td>Grassland</td>\n",
       "      <td>2018</td>\n",
       "      <td>2018-05-22</td>\n",
       "      <td>05:35:00</td>\n",
       "      <td>05:45:00</td>\n",
       "      <td>Elizabeth Oswald</td>\n",
       "      <td>1</td>\n",
       "      <td>0-2.5 min</td>\n",
       "      <td>...</td>\n",
       "      <td>False</td>\n",
       "      <td>False</td>\n",
       "      <td>20.0</td>\n",
       "      <td>79.0</td>\n",
       "      <td>Cloudy/Overcast</td>\n",
       "      <td>Light breeze (4-7 mph) wind felt on face</td>\n",
       "      <td>Slight effect on count</td>\n",
       "      <td>False</td>\n",
       "      <td>True</td>\n",
       "      <td>ANTI</td>\n",
       "    </tr>\n",
       "    <tr>\n",
       "      <th>1</th>\n",
       "      <td>ANTI</td>\n",
       "      <td>ANTI-0054</td>\n",
       "      <td>Grassland</td>\n",
       "      <td>2018</td>\n",
       "      <td>2018-05-22</td>\n",
       "      <td>05:35:00</td>\n",
       "      <td>05:45:00</td>\n",
       "      <td>Elizabeth Oswald</td>\n",
       "      <td>1</td>\n",
       "      <td>7.5 - 10 min</td>\n",
       "      <td>...</td>\n",
       "      <td>False</td>\n",
       "      <td>False</td>\n",
       "      <td>20.0</td>\n",
       "      <td>79.0</td>\n",
       "      <td>Cloudy/Overcast</td>\n",
       "      <td>Light breeze (4-7 mph) wind felt on face</td>\n",
       "      <td>Slight effect on count</td>\n",
       "      <td>False</td>\n",
       "      <td>False</td>\n",
       "      <td>ANTI</td>\n",
       "    </tr>\n",
       "    <tr>\n",
       "      <th>2</th>\n",
       "      <td>ANTI</td>\n",
       "      <td>ANTI-0054</td>\n",
       "      <td>Grassland</td>\n",
       "      <td>2018</td>\n",
       "      <td>2018-05-22</td>\n",
       "      <td>05:35:00</td>\n",
       "      <td>05:45:00</td>\n",
       "      <td>Elizabeth Oswald</td>\n",
       "      <td>1</td>\n",
       "      <td>0-2.5 min</td>\n",
       "      <td>...</td>\n",
       "      <td>False</td>\n",
       "      <td>False</td>\n",
       "      <td>20.0</td>\n",
       "      <td>79.0</td>\n",
       "      <td>Cloudy/Overcast</td>\n",
       "      <td>Light breeze (4-7 mph) wind felt on face</td>\n",
       "      <td>Slight effect on count</td>\n",
       "      <td>False</td>\n",
       "      <td>True</td>\n",
       "      <td>ANTI</td>\n",
       "    </tr>\n",
       "    <tr>\n",
       "      <th>3</th>\n",
       "      <td>ANTI</td>\n",
       "      <td>ANTI-0054</td>\n",
       "      <td>Grassland</td>\n",
       "      <td>2018</td>\n",
       "      <td>2018-05-22</td>\n",
       "      <td>05:35:00</td>\n",
       "      <td>05:45:00</td>\n",
       "      <td>Elizabeth Oswald</td>\n",
       "      <td>1</td>\n",
       "      <td>0-2.5 min</td>\n",
       "      <td>...</td>\n",
       "      <td>False</td>\n",
       "      <td>False</td>\n",
       "      <td>20.0</td>\n",
       "      <td>79.0</td>\n",
       "      <td>Cloudy/Overcast</td>\n",
       "      <td>Light breeze (4-7 mph) wind felt on face</td>\n",
       "      <td>Slight effect on count</td>\n",
       "      <td>False</td>\n",
       "      <td>True</td>\n",
       "      <td>ANTI</td>\n",
       "    </tr>\n",
       "    <tr>\n",
       "      <th>4</th>\n",
       "      <td>ANTI</td>\n",
       "      <td>ANTI-0054</td>\n",
       "      <td>Grassland</td>\n",
       "      <td>2018</td>\n",
       "      <td>2018-05-22</td>\n",
       "      <td>05:35:00</td>\n",
       "      <td>05:45:00</td>\n",
       "      <td>Elizabeth Oswald</td>\n",
       "      <td>1</td>\n",
       "      <td>0-2.5 min</td>\n",
       "      <td>...</td>\n",
       "      <td>False</td>\n",
       "      <td>True</td>\n",
       "      <td>20.0</td>\n",
       "      <td>79.0</td>\n",
       "      <td>Cloudy/Overcast</td>\n",
       "      <td>Light breeze (4-7 mph) wind felt on face</td>\n",
       "      <td>Slight effect on count</td>\n",
       "      <td>False</td>\n",
       "      <td>True</td>\n",
       "      <td>ANTI</td>\n",
       "    </tr>\n",
       "  </tbody>\n",
       "</table>\n",
       "<p>5 rows × 29 columns</p>\n",
       "</div>"
      ],
      "text/plain": [
       "  admin_unit_code  plot_name location_type  year       date start_time  \\\n",
       "0            ANTI  ANTI-0054     Grassland  2018 2018-05-22   05:35:00   \n",
       "1            ANTI  ANTI-0054     Grassland  2018 2018-05-22   05:35:00   \n",
       "2            ANTI  ANTI-0054     Grassland  2018 2018-05-22   05:35:00   \n",
       "3            ANTI  ANTI-0054     Grassland  2018 2018-05-22   05:35:00   \n",
       "4            ANTI  ANTI-0054     Grassland  2018 2018-05-22   05:35:00   \n",
       "\n",
       "   end_time          observer  visit interval_length  ...  \\\n",
       "0  05:45:00  Elizabeth Oswald      1       0-2.5 min  ...   \n",
       "1  05:45:00  Elizabeth Oswald      1    7.5 - 10 min  ...   \n",
       "2  05:45:00  Elizabeth Oswald      1       0-2.5 min  ...   \n",
       "3  05:45:00  Elizabeth Oswald      1       0-2.5 min  ...   \n",
       "4  05:45:00  Elizabeth Oswald      1       0-2.5 min  ...   \n",
       "\n",
       "  pif_watchlist_status regional_stewardship_status  temperature humidity  \\\n",
       "0                False                       False         20.0     79.0   \n",
       "1                False                       False         20.0     79.0   \n",
       "2                False                       False         20.0     79.0   \n",
       "3                False                       False         20.0     79.0   \n",
       "4                False                        True         20.0     79.0   \n",
       "\n",
       "               sky                                      wind  \\\n",
       "0  Cloudy/Overcast  Light breeze (4-7 mph) wind felt on face   \n",
       "1  Cloudy/Overcast  Light breeze (4-7 mph) wind felt on face   \n",
       "2  Cloudy/Overcast  Light breeze (4-7 mph) wind felt on face   \n",
       "3  Cloudy/Overcast  Light breeze (4-7 mph) wind felt on face   \n",
       "4  Cloudy/Overcast  Light breeze (4-7 mph) wind felt on face   \n",
       "\n",
       "              disturbance  previously_obs initial_three_min_cnt  sheetname  \n",
       "0  Slight effect on count           False                  True       ANTI  \n",
       "1  Slight effect on count           False                 False       ANTI  \n",
       "2  Slight effect on count           False                  True       ANTI  \n",
       "3  Slight effect on count           False                  True       ANTI  \n",
       "4  Slight effect on count           False                  True       ANTI  \n",
       "\n",
       "[5 rows x 29 columns]"
      ]
     },
     "execution_count": 17,
     "metadata": {},
     "output_type": "execute_result"
    }
   ],
   "source": [
    "combined_df.head()"
   ]
  },
  {
   "cell_type": "code",
   "execution_count": 18,
   "id": "4691491f",
   "metadata": {},
   "outputs": [
    {
     "data": {
      "text/plain": [
       "id_method        1\n",
       "distance       597\n",
       "acceptedtsn     19\n",
       "taxoncode        2\n",
       "dtype: int64"
      ]
     },
     "execution_count": 18,
     "metadata": {},
     "output_type": "execute_result"
    }
   ],
   "source": [
    "missing = combined_df.isnull().sum()\n",
    "missing[missing > 0]"
   ]
  },
  {
   "cell_type": "code",
   "execution_count": 19,
   "id": "2189d2ec",
   "metadata": {},
   "outputs": [],
   "source": [
    "combined_df['acceptedtsn'].isnull().sum()\n",
    "mean_value = combined_df['acceptedtsn'].mean()\n",
    "combined_df['acceptedtsn'] = combined_df['acceptedtsn'].fillna(mean_value)"
   ]
  },
  {
   "cell_type": "code",
   "execution_count": 20,
   "id": "9b671141",
   "metadata": {},
   "outputs": [],
   "source": [
    "combined_df = combined_df.dropna(subset=['distance'])\n",
    "combined_df = combined_df.dropna(subset=['id_method'])\n",
    "combined_df = combined_df.dropna(subset=['taxoncode'])"
   ]
  },
  {
   "cell_type": "code",
   "execution_count": 21,
   "id": "669fbba2",
   "metadata": {},
   "outputs": [
    {
     "data": {
      "text/plain": [
       "Series([], dtype: int64)"
      ]
     },
     "execution_count": 21,
     "metadata": {},
     "output_type": "execute_result"
    }
   ],
   "source": [
    "missing = combined_df.isnull().sum()\n",
    "missing[missing > 0]"
   ]
  },
  {
   "cell_type": "code",
   "execution_count": 27,
   "id": "2bc38975",
   "metadata": {},
   "outputs": [
    {
     "data": {
      "text/plain": [
       "count    6227.000000\n",
       "mean       22.864782\n",
       "std         4.693123\n",
       "min        11.000000\n",
       "25%        20.000000\n",
       "50%        22.000000\n",
       "75%        26.000000\n",
       "max        37.000000\n",
       "Name: temperature, dtype: float64"
      ]
     },
     "execution_count": 27,
     "metadata": {},
     "output_type": "execute_result"
    }
   ],
   "source": [
    "combined_df['temperature'].describe()"
   ]
  },
  {
   "cell_type": "code",
   "execution_count": 25,
   "id": "5e4a587c",
   "metadata": {},
   "outputs": [],
   "source": [
    "combined_df['temperature'] = combined_df['temperature'].astype('int64')"
   ]
  },
  {
   "cell_type": "code",
   "execution_count": 28,
   "id": "f84b6f8e",
   "metadata": {},
   "outputs": [
    {
     "data": {
      "text/plain": [
       "(11, 37)"
      ]
     },
     "execution_count": 28,
     "metadata": {},
     "output_type": "execute_result"
    }
   ],
   "source": [
    "combined_df['temperature'].min(), combined_df['temperature'].max()"
   ]
  },
  {
   "cell_type": "code",
   "execution_count": 80,
   "id": "7bd3773d",
   "metadata": {},
   "outputs": [
    {
     "data": {
      "image/png": "[encoded data removed]",
      "text/plain": [
       "<Figure size 640x480 with 1 Axes>"
      ]
     },
     "metadata": {},
     "output_type": "display_data"
    }
   ],
   "source": [
    "plt.hist(combined_df['temperature'])\n",
    "plt.show()"
   ]
  },
  {
   "cell_type": "code",
   "execution_count": 81,
   "id": "9eb2a252",
   "metadata": {},
   "outputs": [
    {
     "data": {
      "text/plain": [
       "admin_unit_code\n",
       "ANTI    2939\n",
       "MONO    1882\n",
       "MANA    1307\n",
       "HAFE      99\n",
       "Name: count, dtype: int64"
      ]
     },
     "execution_count": 81,
     "metadata": {},
     "output_type": "execute_result"
    }
   ],
   "source": [
    "combined_df['admin_unit_code'].value_counts()"
   ]
  },
  {
   "cell_type": "code",
   "execution_count": 83,
   "id": "8451f74f",
   "metadata": {},
   "outputs": [
    {
     "data": {
      "text/plain": [
       "interval_length\n",
       "0-2.5 min       3189\n",
       "2.5 - 5 min     1307\n",
       "5 - 7.5 min      922\n",
       "7.5 - 10 min     809\n",
       "Name: count, dtype: int64"
      ]
     },
     "execution_count": 83,
     "metadata": {},
     "output_type": "execute_result"
    }
   ],
   "source": [
    "combined_df['interval_length'].value_counts()"
   ]
  },
  {
   "cell_type": "code",
   "execution_count": 78,
   "id": "a7cc2610",
   "metadata": {},
   "outputs": [
    {
     "data": {
      "image/png": "[encoded data removed]",
      "text/plain": [
       "<Figure size 640x480 with 1 Axes>"
      ]
     },
     "metadata": {},
     "output_type": "display_data"
    }
   ],
   "source": [
    "plt.hist(combined_df['interval_length'])\n",
    "plt.show()"
   ]
  },
  {
   "cell_type": "code",
   "execution_count": 76,
   "id": "5b27be48",
   "metadata": {},
   "outputs": [
    {
     "data": {
      "text/plain": [
       "wind\n",
       "Light air movement (1-3 mph) smoke drifts     3242\n",
       "Light breeze (4-7 mph) wind felt on face      1758\n",
       "Calm (< 1 mph) smoke rises vertically         1029\n",
       "Gentle breeze (8-12 mph), leaves in motion     198\n",
       "Name: count, dtype: int64"
      ]
     },
     "execution_count": 76,
     "metadata": {},
     "output_type": "execute_result"
    }
   ],
   "source": [
    "combined_df['wind'].value_counts()"
   ]
  },
  {
   "cell_type": "code",
   "execution_count": 29,
   "id": "697d0cc4",
   "metadata": {},
   "outputs": [
    {
     "data": {
      "text/plain": [
       "sky\n",
       "Partly Cloudy          2928\n",
       "Clear or Few Clouds    2170\n",
       "Cloudy/Overcast         921\n",
       "Fog                     136\n",
       "Mist/Drizzle             72\n",
       "Name: count, dtype: int64"
      ]
     },
     "execution_count": 29,
     "metadata": {},
     "output_type": "execute_result"
    }
   ],
   "source": [
    "combined_df['sky'].value_counts()"
   ]
  },
  {
   "cell_type": "code",
   "execution_count": 34,
   "id": "2825d3af",
   "metadata": {},
   "outputs": [
    {
     "data": {
      "image/png": "[encoded data removed]",
      "text/plain": [
       "<Figure size 640x480 with 1 Axes>"
      ]
     },
     "metadata": {},
     "output_type": "display_data"
    }
   ],
   "source": [
    "x = [2928,2170,921,136,72]\n",
    "plt.pie(x, labels=['Partly Cloudy', 'Clear or Few Clouds','Cloudy/Overcast','Fog','Mist/Drizzle'], explode=[0,0,0,0,0])\n",
    "plt.show()"
   ]
  },
  {
   "cell_type": "code",
   "execution_count": 45,
   "id": "45a841da",
   "metadata": {},
   "outputs": [
    {
     "data": {
      "image/png": "[encoded data removed]",
      "text/plain": [
       "<Figure size 640x480 with 1 Axes>"
      ]
     },
     "metadata": {},
     "output_type": "display_data"
    }
   ],
   "source": [
    "sns.scatterplot(data=combined_df, x=\"temperature\", y=\"humidity\")\n",
    "plt.show()\n"
   ]
  },
  {
   "cell_type": "code",
   "execution_count": 47,
   "id": "303bac2d",
   "metadata": {},
   "outputs": [
    {
     "data": {
      "image/png": "[encoded data removed]",
      "text/plain": [
       "<Figure size 640x480 with 1 Axes>"
      ]
     },
     "metadata": {},
     "output_type": "display_data"
    }
   ],
   "source": [
    "sns.countplot(data = combined_df, x = \"id_method\")\n",
    "plt.show()"
   ]
  },
  {
   "cell_type": "code",
   "execution_count": 56,
   "id": "d37b2618",
   "metadata": {},
   "outputs": [
    {
     "data": {
      "text/plain": [
       "Text(0.5, 1.0, 'Observers Unit Count')"
      ]
     },
     "execution_count": 56,
     "metadata": {},
     "output_type": "execute_result"
    },
    {
     "data": {
      "image/png": "[encoded data removed]",
      "text/plain": [
       "<Figure size 640x480 with 1 Axes>"
      ]
     },
     "metadata": {},
     "output_type": "display_data"
    }
   ],
   "source": [
    "admin_unit_code = combined_df['admin_unit_code'].index.values\n",
    "sns.barplot(data = combined_df,x = \"observer\", y = admin_unit_code)\n",
    "plt.xlabel('Observer')\n",
    "plt.ylabel('Units')\n",
    "plt.title('Observers Unit Count')"
   ]
  },
  {
   "cell_type": "code",
   "execution_count": null,
   "id": "a4a962b2",
   "metadata": {},
   "outputs": [],
   "source": [
    "import pymysql\n",
    "import mysql.connector\n",
    "from mysql.connector import Error\n",
    "\n",
    "connection = pymysql.connect(\n",
    "        host='',\n",
    "        user='',\n",
    "        password='',\n",
    "        database='',\n",
    "        charset='utf8mb4',\n",
    "        cursorclass=pymysql.cursors.DictCursor\n",
    "    )\n",
    "\n",
    "\n",
    "cursor = connection.cursor()\n",
    "create_table_query =\"\"\"\n",
    "        CREATE TABLE IF NOT EXISTS Grassland (\n",
    "                    id INT AUTO_INCREMENT PRIMARY KEY,\n",
    "                    Admin_Unit_Code VARCHAR(14),\n",
    "                    Plot_Name VARCHAR(19),\n",
    "                    Location_Type VARCHAR(16),\n",
    "                    `Year` INT,\n",
    "                    `Date` DATETIME,\n",
    "                    Start_Time VARCHAR(18),\n",
    "                    End_Time VARCHAR(18),\n",
    "                    Observer VARCHAR(26),\n",
    "                    `Visit` INT,\n",
    "                    Interval_Length VARCHAR(22),\n",
    "                    ID_Method VARCHAR(23),\n",
    "                    `Distance` VARCHAR(25),\n",
    "                    Flyover_Observed BOOLEAN,\n",
    "                    Sex VARCHAR(22),\n",
    "                    Common_Name VARCHAR(34),\n",
    "                    Scientific_Name VARCHAR(34),\n",
    "                    AcceptedTSN FLOAT,\n",
    "                    AOU_Code VARCHAR(14),\n",
    "                    PIF_Watchlist_Status BOOLEAN,\n",
    "                    Regional_Stewardship_Status BOOLEAN,\n",
    "                    Temperature FLOAT,\n",
    "                    Humidity FLOAT,\n",
    "                    Sky VARCHAR(29),\n",
    "                    Wind VARCHAR(51),\n",
    "                    Disturbance VARCHAR(34),\n",
    "                    Previously_Obs BOOLEAN,\n",
    "                    Initial_Three_Min_Cnt BOOLEAN\n",
    "                ) \n",
    "\"\"\"\n",
    "cursor.execute(create_table_query)\n",
    "\n",
    "\n",
    "insert_query ='''\n",
    "        INSERT INTO Grassland (Admin_Unit_Code, Plot_Name, Location_Type,\n",
    "                        `Year`, `Date`, Start_Time, End_Time, Observer, `Visit`, Interval_Length,\n",
    "                        ID_Method, `Distance`, Flyover_Observed,Sex, Common_Name, Scientific_Name,\n",
    "                        AcceptedTSN, AOU_Code, PIF_Watchlist_Status,\n",
    "                        Regional_Stewardship_Status, Temperature, Humidity, Sky, Wind,\n",
    "                        Disturbance,Previously_Obs, Initial_Three_Min_Cnt) \n",
    "                        VALUES (%s, %s, %s, %s, %s,\n",
    "                        %s, %s, %s, %s, %s, %s, %s,\n",
    "                        %s, %s, %s, %s, %s, %s,\n",
    "                        %s, %s, %s, %s, %s,\n",
    "                        %s, %s, %s, %s)\n",
    "\n",
    "'''\n",
    "\n",
    "combined_df.dropna(inplace=True)\n",
    "\n",
    "combined_df[(combined_df['date']!='nan')]\n",
    "\n",
    "df1 = combined_df.where((pd.notnull(combined_df)), None)\n",
    "\n",
    "\n",
    "data_to_insert = df1[[\n",
    "            'admin_unit_code', 'plot_name', 'location_type', 'year', 'date',\n",
    "            'start_time', 'end_time', 'observer', 'visit', 'interval_length', 'id_method',\n",
    "            'distance', 'flyover_observed','sex', 'common_name', 'scientific_name', 'acceptedtsn',\n",
    "            'aou_code', 'pif_watchlist_status', 'regional_stewardship_status',\n",
    "            'temperature', 'humidity', 'sky', 'wind', 'disturbance', 'previously_obs','initial_three_min_cnt'\n",
    "]].values.tolist()\n",
    "\n",
    "\n",
    "cursor.executemany(insert_query, data_to_insert)\n",
    "connection.commit()"
   ]
  },
  {
   "cell_type": "code",
   "execution_count": 75,
   "id": "af9d4bb9",
   "metadata": {},
   "outputs": [],
   "source": [
    "connection.close()"
   ]
  }
 ],
 "metadata": {
  "kernelspec": {
   "display_name": "base",
   "language": "python",
   "name": "python3"
  },
  "language_info": {
   "codemirror_mode": {
    "name": "ipython",
    "version": 3
   },
   "file_extension": ".py",
   "mimetype": "text/x-python",
   "name": "python",
   "nbconvert_exporter": "python",
   "pygments_lexer": "ipython3",
   "version": "3.12.7"
  }
 },
 "nbformat": 4,
 "nbformat_minor": 5
}
