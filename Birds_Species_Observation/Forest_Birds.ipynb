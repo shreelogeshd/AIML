{
 "cells": [
  {
   "cell_type": "code",
   "execution_count": 27,
   "id": "85243a54",
   "metadata": {},
   "outputs": [],
   "source": [
    "import pandas as pd\n",
    "import matplotlib.pyplot as plt\n",
    "import seaborn as sns"
   ]
  },
  {
   "cell_type": "code",
   "execution_count": null,
   "id": "dc9c6624",
   "metadata": {},
   "outputs": [
    {
     "data": {
      "text/html": [
       "<div>\n",
       "<style scoped>\n",
       "    .dataframe tbody tr th:only-of-type {\n",
       "        vertical-align: middle;\n",
       "    }\n",
       "\n",
       "    .dataframe tbody tr th {\n",
       "        vertical-align: top;\n",
       "    }\n",
       "\n",
       "    .dataframe thead th {\n",
       "        text-align: right;\n",
       "    }\n",
       "</style>\n",
       "<table border=\"1\" class=\"dataframe\">\n",
       "  <thead>\n",
       "    <tr style=\"text-align: right;\">\n",
       "      <th></th>\n",
       "      <th>Admin_Unit_Code</th>\n",
       "      <th>Sub_Unit_Code</th>\n",
       "      <th>Site_Name</th>\n",
       "      <th>Plot_Name</th>\n",
       "      <th>Location_Type</th>\n",
       "      <th>Year</th>\n",
       "      <th>Date</th>\n",
       "      <th>Start_Time</th>\n",
       "      <th>End_Time</th>\n",
       "      <th>Observer</th>\n",
       "      <th>...</th>\n",
       "      <th>NPSTaxonCode</th>\n",
       "      <th>AOU_Code</th>\n",
       "      <th>PIF_Watchlist_Status</th>\n",
       "      <th>Regional_Stewardship_Status</th>\n",
       "      <th>Temperature</th>\n",
       "      <th>Humidity</th>\n",
       "      <th>Sky</th>\n",
       "      <th>Wind</th>\n",
       "      <th>Disturbance</th>\n",
       "      <th>Initial_Three_Min_Cnt</th>\n",
       "    </tr>\n",
       "  </thead>\n",
       "  <tbody>\n",
       "    <tr>\n",
       "      <th>0</th>\n",
       "      <td>ANTI</td>\n",
       "      <td>NaN</td>\n",
       "      <td>ANTI 1</td>\n",
       "      <td>ANTI-0036</td>\n",
       "      <td>Forest</td>\n",
       "      <td>2018</td>\n",
       "      <td>2018-05-22</td>\n",
       "      <td>06:19:00</td>\n",
       "      <td>06:29:00</td>\n",
       "      <td>Elizabeth Oswald</td>\n",
       "      <td>...</td>\n",
       "      <td>83803</td>\n",
       "      <td>EATO</td>\n",
       "      <td>False</td>\n",
       "      <td>True</td>\n",
       "      <td>19.9</td>\n",
       "      <td>79.400002</td>\n",
       "      <td>Cloudy/Overcast</td>\n",
       "      <td>Calm (&lt; 1 mph) smoke rises vertically</td>\n",
       "      <td>No effect on count</td>\n",
       "      <td>True</td>\n",
       "    </tr>\n",
       "    <tr>\n",
       "      <th>1</th>\n",
       "      <td>ANTI</td>\n",
       "      <td>NaN</td>\n",
       "      <td>ANTI 1</td>\n",
       "      <td>ANTI-0036</td>\n",
       "      <td>Forest</td>\n",
       "      <td>2018</td>\n",
       "      <td>2018-05-22</td>\n",
       "      <td>06:19:00</td>\n",
       "      <td>06:29:00</td>\n",
       "      <td>Elizabeth Oswald</td>\n",
       "      <td>...</td>\n",
       "      <td>90935</td>\n",
       "      <td>WBNU</td>\n",
       "      <td>False</td>\n",
       "      <td>False</td>\n",
       "      <td>19.9</td>\n",
       "      <td>79.400002</td>\n",
       "      <td>Cloudy/Overcast</td>\n",
       "      <td>Calm (&lt; 1 mph) smoke rises vertically</td>\n",
       "      <td>No effect on count</td>\n",
       "      <td>True</td>\n",
       "    </tr>\n",
       "    <tr>\n",
       "      <th>2</th>\n",
       "      <td>ANTI</td>\n",
       "      <td>NaN</td>\n",
       "      <td>ANTI 1</td>\n",
       "      <td>ANTI-0036</td>\n",
       "      <td>Forest</td>\n",
       "      <td>2018</td>\n",
       "      <td>2018-05-22</td>\n",
       "      <td>06:19:00</td>\n",
       "      <td>06:29:00</td>\n",
       "      <td>Elizabeth Oswald</td>\n",
       "      <td>...</td>\n",
       "      <td>84865</td>\n",
       "      <td>RBWO</td>\n",
       "      <td>False</td>\n",
       "      <td>False</td>\n",
       "      <td>19.9</td>\n",
       "      <td>79.400002</td>\n",
       "      <td>Cloudy/Overcast</td>\n",
       "      <td>Calm (&lt; 1 mph) smoke rises vertically</td>\n",
       "      <td>No effect on count</td>\n",
       "      <td>False</td>\n",
       "    </tr>\n",
       "    <tr>\n",
       "      <th>3</th>\n",
       "      <td>ANTI</td>\n",
       "      <td>NaN</td>\n",
       "      <td>ANTI 1</td>\n",
       "      <td>ANTI-0036</td>\n",
       "      <td>Forest</td>\n",
       "      <td>2018</td>\n",
       "      <td>2018-05-22</td>\n",
       "      <td>06:19:00</td>\n",
       "      <td>06:29:00</td>\n",
       "      <td>Elizabeth Oswald</td>\n",
       "      <td>...</td>\n",
       "      <td>93634</td>\n",
       "      <td>OROR</td>\n",
       "      <td>False</td>\n",
       "      <td>False</td>\n",
       "      <td>19.9</td>\n",
       "      <td>79.400002</td>\n",
       "      <td>Cloudy/Overcast</td>\n",
       "      <td>Calm (&lt; 1 mph) smoke rises vertically</td>\n",
       "      <td>No effect on count</td>\n",
       "      <td>False</td>\n",
       "    </tr>\n",
       "    <tr>\n",
       "      <th>4</th>\n",
       "      <td>ANTI</td>\n",
       "      <td>NaN</td>\n",
       "      <td>ANTI 1</td>\n",
       "      <td>ANTI-0036</td>\n",
       "      <td>Forest</td>\n",
       "      <td>2018</td>\n",
       "      <td>2018-05-22</td>\n",
       "      <td>06:19:00</td>\n",
       "      <td>06:29:00</td>\n",
       "      <td>Elizabeth Oswald</td>\n",
       "      <td>...</td>\n",
       "      <td>88394</td>\n",
       "      <td>NOMO</td>\n",
       "      <td>False</td>\n",
       "      <td>False</td>\n",
       "      <td>19.9</td>\n",
       "      <td>79.400002</td>\n",
       "      <td>Cloudy/Overcast</td>\n",
       "      <td>Calm (&lt; 1 mph) smoke rises vertically</td>\n",
       "      <td>No effect on count</td>\n",
       "      <td>False</td>\n",
       "    </tr>\n",
       "  </tbody>\n",
       "</table>\n",
       "<p>5 rows × 29 columns</p>\n",
       "</div>"
      ],
      "text/plain": [
       "  Admin_Unit_Code  Sub_Unit_Code Site_Name  Plot_Name Location_Type  Year  \\\n",
       "0            ANTI            NaN    ANTI 1  ANTI-0036        Forest  2018   \n",
       "1            ANTI            NaN    ANTI 1  ANTI-0036        Forest  2018   \n",
       "2            ANTI            NaN    ANTI 1  ANTI-0036        Forest  2018   \n",
       "3            ANTI            NaN    ANTI 1  ANTI-0036        Forest  2018   \n",
       "4            ANTI            NaN    ANTI 1  ANTI-0036        Forest  2018   \n",
       "\n",
       "        Date Start_Time  End_Time          Observer  ...  NPSTaxonCode  \\\n",
       "0 2018-05-22   06:19:00  06:29:00  Elizabeth Oswald  ...         83803   \n",
       "1 2018-05-22   06:19:00  06:29:00  Elizabeth Oswald  ...         90935   \n",
       "2 2018-05-22   06:19:00  06:29:00  Elizabeth Oswald  ...         84865   \n",
       "3 2018-05-22   06:19:00  06:29:00  Elizabeth Oswald  ...         93634   \n",
       "4 2018-05-22   06:19:00  06:29:00  Elizabeth Oswald  ...         88394   \n",
       "\n",
       "  AOU_Code PIF_Watchlist_Status Regional_Stewardship_Status  Temperature  \\\n",
       "0     EATO                False                        True         19.9   \n",
       "1     WBNU                False                       False         19.9   \n",
       "2     RBWO                False                       False         19.9   \n",
       "3     OROR                False                       False         19.9   \n",
       "4     NOMO                False                       False         19.9   \n",
       "\n",
       "    Humidity              Sky                                   Wind  \\\n",
       "0  79.400002  Cloudy/Overcast  Calm (< 1 mph) smoke rises vertically   \n",
       "1  79.400002  Cloudy/Overcast  Calm (< 1 mph) smoke rises vertically   \n",
       "2  79.400002  Cloudy/Overcast  Calm (< 1 mph) smoke rises vertically   \n",
       "3  79.400002  Cloudy/Overcast  Calm (< 1 mph) smoke rises vertically   \n",
       "4  79.400002  Cloudy/Overcast  Calm (< 1 mph) smoke rises vertically   \n",
       "\n",
       "          Disturbance  Initial_Three_Min_Cnt  \n",
       "0  No effect on count                   True  \n",
       "1  No effect on count                   True  \n",
       "2  No effect on count                  False  \n",
       "3  No effect on count                  False  \n",
       "4  No effect on count                  False  \n",
       "\n",
       "[5 rows x 29 columns]"
      ]
     },
     "execution_count": 2,
     "metadata": {},
     "output_type": "execute_result"
    }
   ],
   "source": [
    "file_path=r''    # paste the file path\n",
    "df = pd.read_excel(file_path)\n",
    "df.head()"
   ]
  },
  {
   "cell_type": "code",
   "execution_count": 3,
   "id": "288cc968",
   "metadata": {},
   "outputs": [
    {
     "name": "stdout",
     "output_type": "stream",
     "text": [
      "['ANTI', 'CATO', 'CHOH', 'GWMP', 'HAFE', 'MANA', 'MONO', 'NACE', 'PRWI', 'ROCR', 'WOTR']\n"
     ]
    }
   ],
   "source": [
    "xls = pd.ExcelFile(file_path, engine='openpyxl')\n",
    "\n",
    "# List all sheet names\n",
    "print(xls.sheet_names)"
   ]
  },
  {
   "cell_type": "code",
   "execution_count": 4,
   "id": "6d2788e3",
   "metadata": {},
   "outputs": [],
   "source": [
    "all_sheets = pd.read_excel(file_path, sheet_name=None, engine='openpyxl')\n",
    "df_ANTI = all_sheets['ANTI']\n",
    "df_CATO = all_sheets['CATO']\n",
    "df_CHOH = all_sheets['CHOH']\n",
    "df_GWMP = all_sheets['GWMP']\n",
    "df_HAFE = all_sheets['HAFE']\n",
    "df_MANA = all_sheets['MANA']\n",
    "df_MONO = all_sheets['MONO']\n",
    "df_NACE = all_sheets['NACE']\n",
    "df_PRWI = all_sheets['PRWI']\n",
    "df_ROCR = all_sheets['ROCR']\n",
    "df_WOTR = all_sheets['WOTR']"
   ]
  },
  {
   "cell_type": "code",
   "execution_count": 5,
   "id": "2a300790",
   "metadata": {},
   "outputs": [
    {
     "data": {
      "text/html": [
       "<div>\n",
       "<style scoped>\n",
       "    .dataframe tbody tr th:only-of-type {\n",
       "        vertical-align: middle;\n",
       "    }\n",
       "\n",
       "    .dataframe tbody tr th {\n",
       "        vertical-align: top;\n",
       "    }\n",
       "\n",
       "    .dataframe thead th {\n",
       "        text-align: right;\n",
       "    }\n",
       "</style>\n",
       "<table border=\"1\" class=\"dataframe\">\n",
       "  <thead>\n",
       "    <tr style=\"text-align: right;\">\n",
       "      <th></th>\n",
       "      <th>Admin_Unit_Code</th>\n",
       "      <th>Sub_Unit_Code</th>\n",
       "      <th>Site_Name</th>\n",
       "      <th>Plot_Name</th>\n",
       "      <th>Location_Type</th>\n",
       "      <th>Year</th>\n",
       "      <th>Date</th>\n",
       "      <th>Start_Time</th>\n",
       "      <th>End_Time</th>\n",
       "      <th>Observer</th>\n",
       "      <th>...</th>\n",
       "      <th>NPSTaxonCode</th>\n",
       "      <th>AOU_Code</th>\n",
       "      <th>PIF_Watchlist_Status</th>\n",
       "      <th>Regional_Stewardship_Status</th>\n",
       "      <th>Temperature</th>\n",
       "      <th>Humidity</th>\n",
       "      <th>Sky</th>\n",
       "      <th>Wind</th>\n",
       "      <th>Disturbance</th>\n",
       "      <th>Initial_Three_Min_Cnt</th>\n",
       "    </tr>\n",
       "  </thead>\n",
       "  <tbody>\n",
       "    <tr>\n",
       "      <th>0</th>\n",
       "      <td>ANTI</td>\n",
       "      <td>NaN</td>\n",
       "      <td>ANTI 1</td>\n",
       "      <td>ANTI-0036</td>\n",
       "      <td>Forest</td>\n",
       "      <td>2018</td>\n",
       "      <td>2018-05-22</td>\n",
       "      <td>06:19:00</td>\n",
       "      <td>06:29:00</td>\n",
       "      <td>Elizabeth Oswald</td>\n",
       "      <td>...</td>\n",
       "      <td>83803</td>\n",
       "      <td>EATO</td>\n",
       "      <td>False</td>\n",
       "      <td>True</td>\n",
       "      <td>19.9</td>\n",
       "      <td>79.400002</td>\n",
       "      <td>Cloudy/Overcast</td>\n",
       "      <td>Calm (&lt; 1 mph) smoke rises vertically</td>\n",
       "      <td>No effect on count</td>\n",
       "      <td>True</td>\n",
       "    </tr>\n",
       "    <tr>\n",
       "      <th>1</th>\n",
       "      <td>ANTI</td>\n",
       "      <td>NaN</td>\n",
       "      <td>ANTI 1</td>\n",
       "      <td>ANTI-0036</td>\n",
       "      <td>Forest</td>\n",
       "      <td>2018</td>\n",
       "      <td>2018-05-22</td>\n",
       "      <td>06:19:00</td>\n",
       "      <td>06:29:00</td>\n",
       "      <td>Elizabeth Oswald</td>\n",
       "      <td>...</td>\n",
       "      <td>90935</td>\n",
       "      <td>WBNU</td>\n",
       "      <td>False</td>\n",
       "      <td>False</td>\n",
       "      <td>19.9</td>\n",
       "      <td>79.400002</td>\n",
       "      <td>Cloudy/Overcast</td>\n",
       "      <td>Calm (&lt; 1 mph) smoke rises vertically</td>\n",
       "      <td>No effect on count</td>\n",
       "      <td>True</td>\n",
       "    </tr>\n",
       "    <tr>\n",
       "      <th>2</th>\n",
       "      <td>ANTI</td>\n",
       "      <td>NaN</td>\n",
       "      <td>ANTI 1</td>\n",
       "      <td>ANTI-0036</td>\n",
       "      <td>Forest</td>\n",
       "      <td>2018</td>\n",
       "      <td>2018-05-22</td>\n",
       "      <td>06:19:00</td>\n",
       "      <td>06:29:00</td>\n",
       "      <td>Elizabeth Oswald</td>\n",
       "      <td>...</td>\n",
       "      <td>84865</td>\n",
       "      <td>RBWO</td>\n",
       "      <td>False</td>\n",
       "      <td>False</td>\n",
       "      <td>19.9</td>\n",
       "      <td>79.400002</td>\n",
       "      <td>Cloudy/Overcast</td>\n",
       "      <td>Calm (&lt; 1 mph) smoke rises vertically</td>\n",
       "      <td>No effect on count</td>\n",
       "      <td>False</td>\n",
       "    </tr>\n",
       "    <tr>\n",
       "      <th>3</th>\n",
       "      <td>ANTI</td>\n",
       "      <td>NaN</td>\n",
       "      <td>ANTI 1</td>\n",
       "      <td>ANTI-0036</td>\n",
       "      <td>Forest</td>\n",
       "      <td>2018</td>\n",
       "      <td>2018-05-22</td>\n",
       "      <td>06:19:00</td>\n",
       "      <td>06:29:00</td>\n",
       "      <td>Elizabeth Oswald</td>\n",
       "      <td>...</td>\n",
       "      <td>93634</td>\n",
       "      <td>OROR</td>\n",
       "      <td>False</td>\n",
       "      <td>False</td>\n",
       "      <td>19.9</td>\n",
       "      <td>79.400002</td>\n",
       "      <td>Cloudy/Overcast</td>\n",
       "      <td>Calm (&lt; 1 mph) smoke rises vertically</td>\n",
       "      <td>No effect on count</td>\n",
       "      <td>False</td>\n",
       "    </tr>\n",
       "    <tr>\n",
       "      <th>4</th>\n",
       "      <td>ANTI</td>\n",
       "      <td>NaN</td>\n",
       "      <td>ANTI 1</td>\n",
       "      <td>ANTI-0036</td>\n",
       "      <td>Forest</td>\n",
       "      <td>2018</td>\n",
       "      <td>2018-05-22</td>\n",
       "      <td>06:19:00</td>\n",
       "      <td>06:29:00</td>\n",
       "      <td>Elizabeth Oswald</td>\n",
       "      <td>...</td>\n",
       "      <td>88394</td>\n",
       "      <td>NOMO</td>\n",
       "      <td>False</td>\n",
       "      <td>False</td>\n",
       "      <td>19.9</td>\n",
       "      <td>79.400002</td>\n",
       "      <td>Cloudy/Overcast</td>\n",
       "      <td>Calm (&lt; 1 mph) smoke rises vertically</td>\n",
       "      <td>No effect on count</td>\n",
       "      <td>False</td>\n",
       "    </tr>\n",
       "  </tbody>\n",
       "</table>\n",
       "<p>5 rows × 29 columns</p>\n",
       "</div>"
      ],
      "text/plain": [
       "  Admin_Unit_Code Sub_Unit_Code Site_Name  Plot_Name Location_Type  Year  \\\n",
       "0            ANTI           NaN    ANTI 1  ANTI-0036        Forest  2018   \n",
       "1            ANTI           NaN    ANTI 1  ANTI-0036        Forest  2018   \n",
       "2            ANTI           NaN    ANTI 1  ANTI-0036        Forest  2018   \n",
       "3            ANTI           NaN    ANTI 1  ANTI-0036        Forest  2018   \n",
       "4            ANTI           NaN    ANTI 1  ANTI-0036        Forest  2018   \n",
       "\n",
       "        Date Start_Time  End_Time          Observer  ...  NPSTaxonCode  \\\n",
       "0 2018-05-22   06:19:00  06:29:00  Elizabeth Oswald  ...         83803   \n",
       "1 2018-05-22   06:19:00  06:29:00  Elizabeth Oswald  ...         90935   \n",
       "2 2018-05-22   06:19:00  06:29:00  Elizabeth Oswald  ...         84865   \n",
       "3 2018-05-22   06:19:00  06:29:00  Elizabeth Oswald  ...         93634   \n",
       "4 2018-05-22   06:19:00  06:29:00  Elizabeth Oswald  ...         88394   \n",
       "\n",
       "  AOU_Code PIF_Watchlist_Status Regional_Stewardship_Status  Temperature  \\\n",
       "0     EATO                False                        True         19.9   \n",
       "1     WBNU                False                       False         19.9   \n",
       "2     RBWO                False                       False         19.9   \n",
       "3     OROR                False                       False         19.9   \n",
       "4     NOMO                False                       False         19.9   \n",
       "\n",
       "    Humidity              Sky                                   Wind  \\\n",
       "0  79.400002  Cloudy/Overcast  Calm (< 1 mph) smoke rises vertically   \n",
       "1  79.400002  Cloudy/Overcast  Calm (< 1 mph) smoke rises vertically   \n",
       "2  79.400002  Cloudy/Overcast  Calm (< 1 mph) smoke rises vertically   \n",
       "3  79.400002  Cloudy/Overcast  Calm (< 1 mph) smoke rises vertically   \n",
       "4  79.400002  Cloudy/Overcast  Calm (< 1 mph) smoke rises vertically   \n",
       "\n",
       "          Disturbance  Initial_Three_Min_Cnt  \n",
       "0  No effect on count                   True  \n",
       "1  No effect on count                   True  \n",
       "2  No effect on count                  False  \n",
       "3  No effect on count                  False  \n",
       "4  No effect on count                  False  \n",
       "\n",
       "[5 rows x 29 columns]"
      ]
     },
     "execution_count": 5,
     "metadata": {},
     "output_type": "execute_result"
    }
   ],
   "source": [
    "combined_df = pd.concat(all_sheets.values(), ignore_index=True)\n",
    "combined_df.head()"
   ]
  },
  {
   "cell_type": "code",
   "execution_count": 6,
   "id": "c9c820ec",
   "metadata": {},
   "outputs": [
    {
     "data": {
      "text/html": [
       "<div>\n",
       "<style scoped>\n",
       "    .dataframe tbody tr th:only-of-type {\n",
       "        vertical-align: middle;\n",
       "    }\n",
       "\n",
       "    .dataframe tbody tr th {\n",
       "        vertical-align: top;\n",
       "    }\n",
       "\n",
       "    .dataframe thead th {\n",
       "        text-align: right;\n",
       "    }\n",
       "</style>\n",
       "<table border=\"1\" class=\"dataframe\">\n",
       "  <thead>\n",
       "    <tr style=\"text-align: right;\">\n",
       "      <th></th>\n",
       "      <th>Admin_Unit_Code</th>\n",
       "      <th>Sub_Unit_Code</th>\n",
       "      <th>Site_Name</th>\n",
       "      <th>Plot_Name</th>\n",
       "      <th>Location_Type</th>\n",
       "      <th>Year</th>\n",
       "      <th>Date</th>\n",
       "      <th>Start_Time</th>\n",
       "      <th>End_Time</th>\n",
       "      <th>Observer</th>\n",
       "      <th>...</th>\n",
       "      <th>AOU_Code</th>\n",
       "      <th>PIF_Watchlist_Status</th>\n",
       "      <th>Regional_Stewardship_Status</th>\n",
       "      <th>Temperature</th>\n",
       "      <th>Humidity</th>\n",
       "      <th>Sky</th>\n",
       "      <th>Wind</th>\n",
       "      <th>Disturbance</th>\n",
       "      <th>Initial_Three_Min_Cnt</th>\n",
       "      <th>SheetName</th>\n",
       "    </tr>\n",
       "  </thead>\n",
       "  <tbody>\n",
       "    <tr>\n",
       "      <th>0</th>\n",
       "      <td>ANTI</td>\n",
       "      <td>NaN</td>\n",
       "      <td>ANTI 1</td>\n",
       "      <td>ANTI-0036</td>\n",
       "      <td>Forest</td>\n",
       "      <td>2018</td>\n",
       "      <td>2018-05-22</td>\n",
       "      <td>06:19:00</td>\n",
       "      <td>06:29:00</td>\n",
       "      <td>Elizabeth Oswald</td>\n",
       "      <td>...</td>\n",
       "      <td>EATO</td>\n",
       "      <td>False</td>\n",
       "      <td>True</td>\n",
       "      <td>19.9</td>\n",
       "      <td>79.400002</td>\n",
       "      <td>Cloudy/Overcast</td>\n",
       "      <td>Calm (&lt; 1 mph) smoke rises vertically</td>\n",
       "      <td>No effect on count</td>\n",
       "      <td>True</td>\n",
       "      <td>ANTI</td>\n",
       "    </tr>\n",
       "    <tr>\n",
       "      <th>1</th>\n",
       "      <td>ANTI</td>\n",
       "      <td>NaN</td>\n",
       "      <td>ANTI 1</td>\n",
       "      <td>ANTI-0036</td>\n",
       "      <td>Forest</td>\n",
       "      <td>2018</td>\n",
       "      <td>2018-05-22</td>\n",
       "      <td>06:19:00</td>\n",
       "      <td>06:29:00</td>\n",
       "      <td>Elizabeth Oswald</td>\n",
       "      <td>...</td>\n",
       "      <td>WBNU</td>\n",
       "      <td>False</td>\n",
       "      <td>False</td>\n",
       "      <td>19.9</td>\n",
       "      <td>79.400002</td>\n",
       "      <td>Cloudy/Overcast</td>\n",
       "      <td>Calm (&lt; 1 mph) smoke rises vertically</td>\n",
       "      <td>No effect on count</td>\n",
       "      <td>True</td>\n",
       "      <td>ANTI</td>\n",
       "    </tr>\n",
       "    <tr>\n",
       "      <th>2</th>\n",
       "      <td>ANTI</td>\n",
       "      <td>NaN</td>\n",
       "      <td>ANTI 1</td>\n",
       "      <td>ANTI-0036</td>\n",
       "      <td>Forest</td>\n",
       "      <td>2018</td>\n",
       "      <td>2018-05-22</td>\n",
       "      <td>06:19:00</td>\n",
       "      <td>06:29:00</td>\n",
       "      <td>Elizabeth Oswald</td>\n",
       "      <td>...</td>\n",
       "      <td>RBWO</td>\n",
       "      <td>False</td>\n",
       "      <td>False</td>\n",
       "      <td>19.9</td>\n",
       "      <td>79.400002</td>\n",
       "      <td>Cloudy/Overcast</td>\n",
       "      <td>Calm (&lt; 1 mph) smoke rises vertically</td>\n",
       "      <td>No effect on count</td>\n",
       "      <td>False</td>\n",
       "      <td>ANTI</td>\n",
       "    </tr>\n",
       "    <tr>\n",
       "      <th>3</th>\n",
       "      <td>ANTI</td>\n",
       "      <td>NaN</td>\n",
       "      <td>ANTI 1</td>\n",
       "      <td>ANTI-0036</td>\n",
       "      <td>Forest</td>\n",
       "      <td>2018</td>\n",
       "      <td>2018-05-22</td>\n",
       "      <td>06:19:00</td>\n",
       "      <td>06:29:00</td>\n",
       "      <td>Elizabeth Oswald</td>\n",
       "      <td>...</td>\n",
       "      <td>OROR</td>\n",
       "      <td>False</td>\n",
       "      <td>False</td>\n",
       "      <td>19.9</td>\n",
       "      <td>79.400002</td>\n",
       "      <td>Cloudy/Overcast</td>\n",
       "      <td>Calm (&lt; 1 mph) smoke rises vertically</td>\n",
       "      <td>No effect on count</td>\n",
       "      <td>False</td>\n",
       "      <td>ANTI</td>\n",
       "    </tr>\n",
       "    <tr>\n",
       "      <th>4</th>\n",
       "      <td>ANTI</td>\n",
       "      <td>NaN</td>\n",
       "      <td>ANTI 1</td>\n",
       "      <td>ANTI-0036</td>\n",
       "      <td>Forest</td>\n",
       "      <td>2018</td>\n",
       "      <td>2018-05-22</td>\n",
       "      <td>06:19:00</td>\n",
       "      <td>06:29:00</td>\n",
       "      <td>Elizabeth Oswald</td>\n",
       "      <td>...</td>\n",
       "      <td>NOMO</td>\n",
       "      <td>False</td>\n",
       "      <td>False</td>\n",
       "      <td>19.9</td>\n",
       "      <td>79.400002</td>\n",
       "      <td>Cloudy/Overcast</td>\n",
       "      <td>Calm (&lt; 1 mph) smoke rises vertically</td>\n",
       "      <td>No effect on count</td>\n",
       "      <td>False</td>\n",
       "      <td>ANTI</td>\n",
       "    </tr>\n",
       "  </tbody>\n",
       "</table>\n",
       "<p>5 rows × 30 columns</p>\n",
       "</div>"
      ],
      "text/plain": [
       "  Admin_Unit_Code Sub_Unit_Code Site_Name  Plot_Name Location_Type  Year  \\\n",
       "0            ANTI           NaN    ANTI 1  ANTI-0036        Forest  2018   \n",
       "1            ANTI           NaN    ANTI 1  ANTI-0036        Forest  2018   \n",
       "2            ANTI           NaN    ANTI 1  ANTI-0036        Forest  2018   \n",
       "3            ANTI           NaN    ANTI 1  ANTI-0036        Forest  2018   \n",
       "4            ANTI           NaN    ANTI 1  ANTI-0036        Forest  2018   \n",
       "\n",
       "        Date Start_Time  End_Time          Observer  ...  AOU_Code  \\\n",
       "0 2018-05-22   06:19:00  06:29:00  Elizabeth Oswald  ...      EATO   \n",
       "1 2018-05-22   06:19:00  06:29:00  Elizabeth Oswald  ...      WBNU   \n",
       "2 2018-05-22   06:19:00  06:29:00  Elizabeth Oswald  ...      RBWO   \n",
       "3 2018-05-22   06:19:00  06:29:00  Elizabeth Oswald  ...      OROR   \n",
       "4 2018-05-22   06:19:00  06:29:00  Elizabeth Oswald  ...      NOMO   \n",
       "\n",
       "  PIF_Watchlist_Status Regional_Stewardship_Status Temperature   Humidity  \\\n",
       "0                False                        True        19.9  79.400002   \n",
       "1                False                       False        19.9  79.400002   \n",
       "2                False                       False        19.9  79.400002   \n",
       "3                False                       False        19.9  79.400002   \n",
       "4                False                       False        19.9  79.400002   \n",
       "\n",
       "               Sky                                   Wind         Disturbance  \\\n",
       "0  Cloudy/Overcast  Calm (< 1 mph) smoke rises vertically  No effect on count   \n",
       "1  Cloudy/Overcast  Calm (< 1 mph) smoke rises vertically  No effect on count   \n",
       "2  Cloudy/Overcast  Calm (< 1 mph) smoke rises vertically  No effect on count   \n",
       "3  Cloudy/Overcast  Calm (< 1 mph) smoke rises vertically  No effect on count   \n",
       "4  Cloudy/Overcast  Calm (< 1 mph) smoke rises vertically  No effect on count   \n",
       "\n",
       "   Initial_Three_Min_Cnt  SheetName  \n",
       "0                   True       ANTI  \n",
       "1                   True       ANTI  \n",
       "2                  False       ANTI  \n",
       "3                  False       ANTI  \n",
       "4                  False       ANTI  \n",
       "\n",
       "[5 rows x 30 columns]"
      ]
     },
     "execution_count": 6,
     "metadata": {},
     "output_type": "execute_result"
    }
   ],
   "source": [
    "all_sheets = pd.read_excel(file_path, sheet_name=None, engine='openpyxl')\n",
    "df_list = []\n",
    "\n",
    "for name, sheet in all_sheets.items():\n",
    "    sheet['SheetName'] = name  \n",
    "    df_list.append(sheet)\n",
    "\n",
    "combined_df = pd.concat(df_list, ignore_index=True)\n",
    "\n",
    "combined_df.head()"
   ]
  },
  {
   "cell_type": "code",
   "execution_count": 7,
   "id": "92048dc1",
   "metadata": {},
   "outputs": [
    {
     "name": "stdout",
     "output_type": "stream",
     "text": [
      "Rows: 8546 Columns: 30\n"
     ]
    }
   ],
   "source": [
    "print(\"Rows:\", combined_df.shape[0], \"Columns:\", combined_df.shape[1])"
   ]
  },
  {
   "cell_type": "code",
   "execution_count": 8,
   "id": "7d6e0e3f",
   "metadata": {},
   "outputs": [
    {
     "name": "stdout",
     "output_type": "stream",
     "text": [
      "\n",
      "Columns:\n",
      "['Admin_Unit_Code', 'Sub_Unit_Code', 'Site_Name', 'Plot_Name', 'Location_Type', 'Year', 'Date', 'Start_Time', 'End_Time', 'Observer', 'Visit', 'Interval_Length', 'ID_Method', 'Distance', 'Flyover_Observed', 'Sex', 'Common_Name', 'Scientific_Name', 'AcceptedTSN', 'NPSTaxonCode', 'AOU_Code', 'PIF_Watchlist_Status', 'Regional_Stewardship_Status', 'Temperature', 'Humidity', 'Sky', 'Wind', 'Disturbance', 'Initial_Three_Min_Cnt', 'SheetName']\n"
     ]
    }
   ],
   "source": [
    "print(\"\\nColumns:\")\n",
    "print(combined_df.columns.tolist())"
   ]
  },
  {
   "cell_type": "code",
   "execution_count": 9,
   "id": "99f8aae3",
   "metadata": {},
   "outputs": [
    {
     "name": "stdout",
     "output_type": "stream",
     "text": [
      "<class 'pandas.core.frame.DataFrame'>\n",
      "RangeIndex: 8546 entries, 0 to 8545\n",
      "Data columns (total 30 columns):\n",
      " #   Column                       Non-Null Count  Dtype         \n",
      "---  ------                       --------------  -----         \n",
      " 0   Admin_Unit_Code              8546 non-null   object        \n",
      " 1   Sub_Unit_Code                722 non-null    object        \n",
      " 2   Site_Name                    8546 non-null   object        \n",
      " 3   Plot_Name                    8546 non-null   object        \n",
      " 4   Location_Type                8546 non-null   object        \n",
      " 5   Year                         8546 non-null   int64         \n",
      " 6   Date                         8546 non-null   datetime64[ns]\n",
      " 7   Start_Time                   8546 non-null   object        \n",
      " 8   End_Time                     8546 non-null   object        \n",
      " 9   Observer                     8546 non-null   object        \n",
      " 10  Visit                        8546 non-null   int64         \n",
      " 11  Interval_Length              8546 non-null   object        \n",
      " 12  ID_Method                    8545 non-null   object        \n",
      " 13  Distance                     8454 non-null   object        \n",
      " 14  Flyover_Observed             8546 non-null   bool          \n",
      " 15  Sex                          3363 non-null   object        \n",
      " 16  Common_Name                  8546 non-null   object        \n",
      " 17  Scientific_Name              8546 non-null   object        \n",
      " 18  AcceptedTSN                  8537 non-null   float64       \n",
      " 19  NPSTaxonCode                 8546 non-null   int64         \n",
      " 20  AOU_Code                     8546 non-null   object        \n",
      " 21  PIF_Watchlist_Status         8546 non-null   bool          \n",
      " 22  Regional_Stewardship_Status  8546 non-null   bool          \n",
      " 23  Temperature                  8546 non-null   float64       \n",
      " 24  Humidity                     8546 non-null   float64       \n",
      " 25  Sky                          8546 non-null   object        \n",
      " 26  Wind                         8546 non-null   object        \n",
      " 27  Disturbance                  8546 non-null   object        \n",
      " 28  Initial_Three_Min_Cnt        8546 non-null   bool          \n",
      " 29  SheetName                    8546 non-null   object        \n",
      "dtypes: bool(4), datetime64[ns](1), float64(3), int64(3), object(19)\n",
      "memory usage: 1.7+ MB\n"
     ]
    }
   ],
   "source": [
    "combined_df.info()"
   ]
  },
  {
   "cell_type": "code",
   "execution_count": 10,
   "id": "cb4b2c3b",
   "metadata": {},
   "outputs": [
    {
     "data": {
      "text/html": [
       "<div>\n",
       "<style scoped>\n",
       "    .dataframe tbody tr th:only-of-type {\n",
       "        vertical-align: middle;\n",
       "    }\n",
       "\n",
       "    .dataframe tbody tr th {\n",
       "        vertical-align: top;\n",
       "    }\n",
       "\n",
       "    .dataframe thead th {\n",
       "        text-align: right;\n",
       "    }\n",
       "</style>\n",
       "<table border=\"1\" class=\"dataframe\">\n",
       "  <thead>\n",
       "    <tr style=\"text-align: right;\">\n",
       "      <th></th>\n",
       "      <th>Year</th>\n",
       "      <th>Date</th>\n",
       "      <th>Visit</th>\n",
       "      <th>AcceptedTSN</th>\n",
       "      <th>NPSTaxonCode</th>\n",
       "      <th>Temperature</th>\n",
       "      <th>Humidity</th>\n",
       "    </tr>\n",
       "  </thead>\n",
       "  <tbody>\n",
       "    <tr>\n",
       "      <th>count</th>\n",
       "      <td>8546.0</td>\n",
       "      <td>8546</td>\n",
       "      <td>8546.000000</td>\n",
       "      <td>8537.000000</td>\n",
       "      <td>8546.000000</td>\n",
       "      <td>8546.000000</td>\n",
       "      <td>8546.000000</td>\n",
       "    </tr>\n",
       "    <tr>\n",
       "      <th>mean</th>\n",
       "      <td>2018.0</td>\n",
       "      <td>2018-06-12 21:17:23.856775168</td>\n",
       "      <td>1.487245</td>\n",
       "      <td>246572.359025</td>\n",
       "      <td>137088.791013</td>\n",
       "      <td>21.871507</td>\n",
       "      <td>77.757032</td>\n",
       "    </tr>\n",
       "    <tr>\n",
       "      <th>min</th>\n",
       "      <td>2018.0</td>\n",
       "      <td>2018-05-07 00:00:00</td>\n",
       "      <td>1.000000</td>\n",
       "      <td>174717.000000</td>\n",
       "      <td>76625.000000</td>\n",
       "      <td>11.000000</td>\n",
       "      <td>17.500000</td>\n",
       "    </tr>\n",
       "    <tr>\n",
       "      <th>25%</th>\n",
       "      <td>2018.0</td>\n",
       "      <td>2018-05-29 00:00:00</td>\n",
       "      <td>1.000000</td>\n",
       "      <td>178359.000000</td>\n",
       "      <td>85846.000000</td>\n",
       "      <td>19.400000</td>\n",
       "      <td>72.500000</td>\n",
       "    </tr>\n",
       "    <tr>\n",
       "      <th>50%</th>\n",
       "      <td>2018.0</td>\n",
       "      <td>2018-06-12 00:00:00</td>\n",
       "      <td>1.000000</td>\n",
       "      <td>179021.000000</td>\n",
       "      <td>88350.000000</td>\n",
       "      <td>21.900000</td>\n",
       "      <td>78.800003</td>\n",
       "    </tr>\n",
       "    <tr>\n",
       "      <th>75%</th>\n",
       "      <td>2018.0</td>\n",
       "      <td>2018-07-01 00:00:00</td>\n",
       "      <td>2.000000</td>\n",
       "      <td>179759.000000</td>\n",
       "      <td>94215.000000</td>\n",
       "      <td>24.299999</td>\n",
       "      <td>84.300003</td>\n",
       "    </tr>\n",
       "    <tr>\n",
       "      <th>max</th>\n",
       "      <td>2018.0</td>\n",
       "      <td>2018-07-15 00:00:00</td>\n",
       "      <td>2.000000</td>\n",
       "      <td>950106.000000</td>\n",
       "      <td>926917.000000</td>\n",
       "      <td>34.400002</td>\n",
       "      <td>97.900002</td>\n",
       "    </tr>\n",
       "    <tr>\n",
       "      <th>std</th>\n",
       "      <td>0.0</td>\n",
       "      <td>NaN</td>\n",
       "      <td>0.499867</td>\n",
       "      <td>181764.826428</td>\n",
       "      <td>154932.276585</td>\n",
       "      <td>3.652511</td>\n",
       "      <td>9.296123</td>\n",
       "    </tr>\n",
       "  </tbody>\n",
       "</table>\n",
       "</div>"
      ],
      "text/plain": [
       "         Year                           Date        Visit    AcceptedTSN  \\\n",
       "count  8546.0                           8546  8546.000000    8537.000000   \n",
       "mean   2018.0  2018-06-12 21:17:23.856775168     1.487245  246572.359025   \n",
       "min    2018.0            2018-05-07 00:00:00     1.000000  174717.000000   \n",
       "25%    2018.0            2018-05-29 00:00:00     1.000000  178359.000000   \n",
       "50%    2018.0            2018-06-12 00:00:00     1.000000  179021.000000   \n",
       "75%    2018.0            2018-07-01 00:00:00     2.000000  179759.000000   \n",
       "max    2018.0            2018-07-15 00:00:00     2.000000  950106.000000   \n",
       "std       0.0                            NaN     0.499867  181764.826428   \n",
       "\n",
       "        NPSTaxonCode  Temperature     Humidity  \n",
       "count    8546.000000  8546.000000  8546.000000  \n",
       "mean   137088.791013    21.871507    77.757032  \n",
       "min     76625.000000    11.000000    17.500000  \n",
       "25%     85846.000000    19.400000    72.500000  \n",
       "50%     88350.000000    21.900000    78.800003  \n",
       "75%     94215.000000    24.299999    84.300003  \n",
       "max    926917.000000    34.400002    97.900002  \n",
       "std    154932.276585     3.652511     9.296123  "
      ]
     },
     "execution_count": 10,
     "metadata": {},
     "output_type": "execute_result"
    }
   ],
   "source": [
    "combined_df.describe()"
   ]
  },
  {
   "cell_type": "code",
   "execution_count": 11,
   "id": "f2d9130a",
   "metadata": {},
   "outputs": [],
   "source": [
    "# Strip whitespaces from column names\n",
    "combined_df.columns = combined_df.columns.str.strip()"
   ]
  },
  {
   "cell_type": "code",
   "execution_count": 12,
   "id": "ff9b170e",
   "metadata": {},
   "outputs": [],
   "source": [
    "# Standardize column names (optional, for consistency)\n",
    "combined_df.columns = combined_df.columns.str.lower().str.replace(' ', '_')"
   ]
  },
  {
   "cell_type": "code",
   "execution_count": 13,
   "id": "3199e890",
   "metadata": {},
   "outputs": [
    {
     "data": {
      "text/plain": [
       "sub_unit_code    7824\n",
       "id_method           1\n",
       "distance           92\n",
       "sex              5183\n",
       "acceptedtsn         9\n",
       "dtype: int64"
      ]
     },
     "execution_count": 13,
     "metadata": {},
     "output_type": "execute_result"
    }
   ],
   "source": [
    "missing = combined_df.isnull().sum()\n",
    "missing[missing > 0]"
   ]
  },
  {
   "cell_type": "code",
   "execution_count": 14,
   "id": "3678ba53",
   "metadata": {},
   "outputs": [
    {
     "name": "stdout",
     "output_type": "stream",
     "text": [
      "sub_unit_code                  91.551603\n",
      "sex                            60.648256\n",
      "distance                        1.076527\n",
      "acceptedtsn                     0.105312\n",
      "id_method                       0.011701\n",
      "scientific_name                 0.000000\n",
      "initial_three_min_cnt           0.000000\n",
      "disturbance                     0.000000\n",
      "wind                            0.000000\n",
      "sky                             0.000000\n",
      "humidity                        0.000000\n",
      "temperature                     0.000000\n",
      "regional_stewardship_status     0.000000\n",
      "pif_watchlist_status            0.000000\n",
      "aou_code                        0.000000\n",
      "npstaxoncode                    0.000000\n",
      "admin_unit_code                 0.000000\n",
      "common_name                     0.000000\n",
      "flyover_observed                0.000000\n",
      "interval_length                 0.000000\n",
      "visit                           0.000000\n",
      "observer                        0.000000\n",
      "end_time                        0.000000\n",
      "start_time                      0.000000\n",
      "date                            0.000000\n",
      "year                            0.000000\n",
      "location_type                   0.000000\n",
      "plot_name                       0.000000\n",
      "site_name                       0.000000\n",
      "sheetname                       0.000000\n",
      "dtype: float64\n"
     ]
    }
   ],
   "source": [
    "# Percentage of missing values\n",
    "print((combined_df.isnull().mean() * 100).sort_values(ascending=False))"
   ]
  },
  {
   "cell_type": "code",
   "execution_count": 15,
   "id": "759fca57",
   "metadata": {},
   "outputs": [],
   "source": [
    "# Drop columns with too many missing values (e.g., >50%)\n",
    "threshold = 0.5\n",
    "combined_df = combined_df.loc[:, combined_df.isnull().mean() < threshold]"
   ]
  },
  {
   "cell_type": "code",
   "execution_count": 16,
   "id": "cb181838",
   "metadata": {},
   "outputs": [
    {
     "data": {
      "text/plain": [
       "29"
      ]
     },
     "execution_count": 16,
     "metadata": {},
     "output_type": "execute_result"
    }
   ],
   "source": [
    "combined_df.duplicated().sum()"
   ]
  },
  {
   "cell_type": "code",
   "execution_count": 17,
   "id": "1c18f560",
   "metadata": {},
   "outputs": [],
   "source": [
    "if 'acceptedtsn' in df.columns:\n",
    "    df['acceptedtsn'] = df['acceptedtsn'].fillna(df['acceptedtsn'].mean())"
   ]
  },
  {
   "cell_type": "code",
   "execution_count": 18,
   "id": "650f6673",
   "metadata": {},
   "outputs": [],
   "source": [
    "combined_df = combined_df.drop_duplicates()"
   ]
  },
  {
   "cell_type": "code",
   "execution_count": 19,
   "id": "40376e2d",
   "metadata": {},
   "outputs": [
    {
     "data": {
      "text/html": [
       "<div>\n",
       "<style scoped>\n",
       "    .dataframe tbody tr th:only-of-type {\n",
       "        vertical-align: middle;\n",
       "    }\n",
       "\n",
       "    .dataframe tbody tr th {\n",
       "        vertical-align: top;\n",
       "    }\n",
       "\n",
       "    .dataframe thead th {\n",
       "        text-align: right;\n",
       "    }\n",
       "</style>\n",
       "<table border=\"1\" class=\"dataframe\">\n",
       "  <thead>\n",
       "    <tr style=\"text-align: right;\">\n",
       "      <th></th>\n",
       "      <th>admin_unit_code</th>\n",
       "      <th>site_name</th>\n",
       "      <th>plot_name</th>\n",
       "      <th>location_type</th>\n",
       "      <th>year</th>\n",
       "      <th>date</th>\n",
       "      <th>start_time</th>\n",
       "      <th>end_time</th>\n",
       "      <th>observer</th>\n",
       "      <th>visit</th>\n",
       "      <th>...</th>\n",
       "      <th>aou_code</th>\n",
       "      <th>pif_watchlist_status</th>\n",
       "      <th>regional_stewardship_status</th>\n",
       "      <th>temperature</th>\n",
       "      <th>humidity</th>\n",
       "      <th>sky</th>\n",
       "      <th>wind</th>\n",
       "      <th>disturbance</th>\n",
       "      <th>initial_three_min_cnt</th>\n",
       "      <th>sheetname</th>\n",
       "    </tr>\n",
       "  </thead>\n",
       "  <tbody>\n",
       "    <tr>\n",
       "      <th>0</th>\n",
       "      <td>ANTI</td>\n",
       "      <td>ANTI 1</td>\n",
       "      <td>ANTI-0036</td>\n",
       "      <td>Forest</td>\n",
       "      <td>2018</td>\n",
       "      <td>2018-05-22</td>\n",
       "      <td>06:19:00</td>\n",
       "      <td>06:29:00</td>\n",
       "      <td>Elizabeth Oswald</td>\n",
       "      <td>1</td>\n",
       "      <td>...</td>\n",
       "      <td>EATO</td>\n",
       "      <td>False</td>\n",
       "      <td>True</td>\n",
       "      <td>19.9</td>\n",
       "      <td>79.400002</td>\n",
       "      <td>Cloudy/Overcast</td>\n",
       "      <td>Calm (&lt; 1 mph) smoke rises vertically</td>\n",
       "      <td>No effect on count</td>\n",
       "      <td>True</td>\n",
       "      <td>ANTI</td>\n",
       "    </tr>\n",
       "    <tr>\n",
       "      <th>1</th>\n",
       "      <td>ANTI</td>\n",
       "      <td>ANTI 1</td>\n",
       "      <td>ANTI-0036</td>\n",
       "      <td>Forest</td>\n",
       "      <td>2018</td>\n",
       "      <td>2018-05-22</td>\n",
       "      <td>06:19:00</td>\n",
       "      <td>06:29:00</td>\n",
       "      <td>Elizabeth Oswald</td>\n",
       "      <td>1</td>\n",
       "      <td>...</td>\n",
       "      <td>WBNU</td>\n",
       "      <td>False</td>\n",
       "      <td>False</td>\n",
       "      <td>19.9</td>\n",
       "      <td>79.400002</td>\n",
       "      <td>Cloudy/Overcast</td>\n",
       "      <td>Calm (&lt; 1 mph) smoke rises vertically</td>\n",
       "      <td>No effect on count</td>\n",
       "      <td>True</td>\n",
       "      <td>ANTI</td>\n",
       "    </tr>\n",
       "    <tr>\n",
       "      <th>2</th>\n",
       "      <td>ANTI</td>\n",
       "      <td>ANTI 1</td>\n",
       "      <td>ANTI-0036</td>\n",
       "      <td>Forest</td>\n",
       "      <td>2018</td>\n",
       "      <td>2018-05-22</td>\n",
       "      <td>06:19:00</td>\n",
       "      <td>06:29:00</td>\n",
       "      <td>Elizabeth Oswald</td>\n",
       "      <td>1</td>\n",
       "      <td>...</td>\n",
       "      <td>RBWO</td>\n",
       "      <td>False</td>\n",
       "      <td>False</td>\n",
       "      <td>19.9</td>\n",
       "      <td>79.400002</td>\n",
       "      <td>Cloudy/Overcast</td>\n",
       "      <td>Calm (&lt; 1 mph) smoke rises vertically</td>\n",
       "      <td>No effect on count</td>\n",
       "      <td>False</td>\n",
       "      <td>ANTI</td>\n",
       "    </tr>\n",
       "    <tr>\n",
       "      <th>3</th>\n",
       "      <td>ANTI</td>\n",
       "      <td>ANTI 1</td>\n",
       "      <td>ANTI-0036</td>\n",
       "      <td>Forest</td>\n",
       "      <td>2018</td>\n",
       "      <td>2018-05-22</td>\n",
       "      <td>06:19:00</td>\n",
       "      <td>06:29:00</td>\n",
       "      <td>Elizabeth Oswald</td>\n",
       "      <td>1</td>\n",
       "      <td>...</td>\n",
       "      <td>OROR</td>\n",
       "      <td>False</td>\n",
       "      <td>False</td>\n",
       "      <td>19.9</td>\n",
       "      <td>79.400002</td>\n",
       "      <td>Cloudy/Overcast</td>\n",
       "      <td>Calm (&lt; 1 mph) smoke rises vertically</td>\n",
       "      <td>No effect on count</td>\n",
       "      <td>False</td>\n",
       "      <td>ANTI</td>\n",
       "    </tr>\n",
       "    <tr>\n",
       "      <th>4</th>\n",
       "      <td>ANTI</td>\n",
       "      <td>ANTI 1</td>\n",
       "      <td>ANTI-0036</td>\n",
       "      <td>Forest</td>\n",
       "      <td>2018</td>\n",
       "      <td>2018-05-22</td>\n",
       "      <td>06:19:00</td>\n",
       "      <td>06:29:00</td>\n",
       "      <td>Elizabeth Oswald</td>\n",
       "      <td>1</td>\n",
       "      <td>...</td>\n",
       "      <td>NOMO</td>\n",
       "      <td>False</td>\n",
       "      <td>False</td>\n",
       "      <td>19.9</td>\n",
       "      <td>79.400002</td>\n",
       "      <td>Cloudy/Overcast</td>\n",
       "      <td>Calm (&lt; 1 mph) smoke rises vertically</td>\n",
       "      <td>No effect on count</td>\n",
       "      <td>False</td>\n",
       "      <td>ANTI</td>\n",
       "    </tr>\n",
       "  </tbody>\n",
       "</table>\n",
       "<p>5 rows × 28 columns</p>\n",
       "</div>"
      ],
      "text/plain": [
       "  admin_unit_code site_name  plot_name location_type  year       date  \\\n",
       "0            ANTI    ANTI 1  ANTI-0036        Forest  2018 2018-05-22   \n",
       "1            ANTI    ANTI 1  ANTI-0036        Forest  2018 2018-05-22   \n",
       "2            ANTI    ANTI 1  ANTI-0036        Forest  2018 2018-05-22   \n",
       "3            ANTI    ANTI 1  ANTI-0036        Forest  2018 2018-05-22   \n",
       "4            ANTI    ANTI 1  ANTI-0036        Forest  2018 2018-05-22   \n",
       "\n",
       "  start_time  end_time          observer  visit  ... aou_code  \\\n",
       "0   06:19:00  06:29:00  Elizabeth Oswald      1  ...     EATO   \n",
       "1   06:19:00  06:29:00  Elizabeth Oswald      1  ...     WBNU   \n",
       "2   06:19:00  06:29:00  Elizabeth Oswald      1  ...     RBWO   \n",
       "3   06:19:00  06:29:00  Elizabeth Oswald      1  ...     OROR   \n",
       "4   06:19:00  06:29:00  Elizabeth Oswald      1  ...     NOMO   \n",
       "\n",
       "  pif_watchlist_status regional_stewardship_status  temperature   humidity  \\\n",
       "0                False                        True         19.9  79.400002   \n",
       "1                False                       False         19.9  79.400002   \n",
       "2                False                       False         19.9  79.400002   \n",
       "3                False                       False         19.9  79.400002   \n",
       "4                False                       False         19.9  79.400002   \n",
       "\n",
       "               sky                                   wind         disturbance  \\\n",
       "0  Cloudy/Overcast  Calm (< 1 mph) smoke rises vertically  No effect on count   \n",
       "1  Cloudy/Overcast  Calm (< 1 mph) smoke rises vertically  No effect on count   \n",
       "2  Cloudy/Overcast  Calm (< 1 mph) smoke rises vertically  No effect on count   \n",
       "3  Cloudy/Overcast  Calm (< 1 mph) smoke rises vertically  No effect on count   \n",
       "4  Cloudy/Overcast  Calm (< 1 mph) smoke rises vertically  No effect on count   \n",
       "\n",
       "  initial_three_min_cnt  sheetname  \n",
       "0                  True       ANTI  \n",
       "1                  True       ANTI  \n",
       "2                 False       ANTI  \n",
       "3                 False       ANTI  \n",
       "4                 False       ANTI  \n",
       "\n",
       "[5 rows x 28 columns]"
      ]
     },
     "execution_count": 19,
     "metadata": {},
     "output_type": "execute_result"
    }
   ],
   "source": [
    "combined_df.head()"
   ]
  },
  {
   "cell_type": "code",
   "execution_count": 20,
   "id": "f838c242",
   "metadata": {},
   "outputs": [
    {
     "data": {
      "text/plain": [
       "7"
      ]
     },
     "execution_count": 20,
     "metadata": {},
     "output_type": "execute_result"
    }
   ],
   "source": [
    "combined_df['acceptedtsn'].isnull().sum()"
   ]
  },
  {
   "cell_type": "code",
   "execution_count": 21,
   "id": "a1fb76a4",
   "metadata": {},
   "outputs": [],
   "source": [
    "mean_value = combined_df['acceptedtsn'].mean()\n",
    "combined_df['acceptedtsn'] = combined_df['acceptedtsn'].fillna(mean_value)"
   ]
  },
  {
   "cell_type": "code",
   "execution_count": 22,
   "id": "831d53df",
   "metadata": {},
   "outputs": [],
   "source": [
    "combined_df = combined_df.dropna(subset=['distance'])\n",
    "combined_df = combined_df.dropna(subset=['id_method'])"
   ]
  },
  {
   "cell_type": "code",
   "execution_count": 23,
   "id": "74ab23d8",
   "metadata": {},
   "outputs": [
    {
     "data": {
      "text/plain": [
       "Series([], dtype: int64)"
      ]
     },
     "execution_count": 23,
     "metadata": {},
     "output_type": "execute_result"
    }
   ],
   "source": [
    "missing = combined_df.isnull().sum()\n",
    "missing[missing > 0]"
   ]
  },
  {
   "cell_type": "code",
   "execution_count": 24,
   "id": "4127396c",
   "metadata": {},
   "outputs": [
    {
     "name": "stdout",
     "output_type": "stream",
     "text": [
      "['admin_unit_code', 'site_name', 'plot_name', 'location_type', 'year', 'date', 'start_time', 'end_time', 'observer', 'visit', 'interval_length', 'id_method', 'distance', 'flyover_observed', 'common_name', 'scientific_name', 'acceptedtsn', 'npstaxoncode', 'aou_code', 'pif_watchlist_status', 'regional_stewardship_status', 'temperature', 'humidity', 'sky', 'wind', 'disturbance', 'initial_three_min_cnt', 'sheetname']\n"
     ]
    }
   ],
   "source": [
    "print(combined_df.columns.tolist())"
   ]
  },
  {
   "cell_type": "code",
   "execution_count": 25,
   "id": "7fa68966",
   "metadata": {},
   "outputs": [],
   "source": [
    "combined_df.columns = combined_df.columns.str.strip().str.lower()"
   ]
  },
  {
   "cell_type": "code",
   "execution_count": 26,
   "id": "04f11a52",
   "metadata": {},
   "outputs": [],
   "source": [
    "combined_df = combined_df[combined_df['date'].notna()]"
   ]
  },
  {
   "cell_type": "code",
   "execution_count": 28,
   "id": "f8378cee",
   "metadata": {},
   "outputs": [
    {
     "data": {
      "text/plain": [
       "admin_unit_code\n",
       "PRWI    2458\n",
       "CHOH    2161\n",
       "CATO     798\n",
       "NACE     669\n",
       "MANA     458\n",
       "HAFE     410\n",
       "GWMP     370\n",
       "MONO     366\n",
       "ANTI     326\n",
       "ROCR     284\n",
       "WOTR     125\n",
       "Name: count, dtype: int64"
      ]
     },
     "execution_count": 28,
     "metadata": {},
     "output_type": "execute_result"
    }
   ],
   "source": [
    "combined_df['admin_unit_code'].value_counts()"
   ]
  },
  {
   "cell_type": "code",
   "execution_count": 29,
   "id": "775d6292",
   "metadata": {},
   "outputs": [
    {
     "data": {
      "text/plain": [
       "count    8425.000000\n",
       "mean       21.865923\n",
       "std         3.654074\n",
       "min        11.000000\n",
       "25%        19.400000\n",
       "50%        21.900000\n",
       "75%        24.299999\n",
       "max        34.400002\n",
       "Name: temperature, dtype: float64"
      ]
     },
     "execution_count": 29,
     "metadata": {},
     "output_type": "execute_result"
    }
   ],
   "source": [
    "combined_df['temperature'].describe()"
   ]
  },
  {
   "cell_type": "code",
   "execution_count": 30,
   "id": "71f0b6e7",
   "metadata": {},
   "outputs": [],
   "source": [
    "combined_df['temperature'] = combined_df['temperature'].astype('int64')"
   ]
  },
  {
   "cell_type": "code",
   "execution_count": 31,
   "id": "9d727f1f",
   "metadata": {},
   "outputs": [
    {
     "data": {
      "text/plain": [
       "(11, 34)"
      ]
     },
     "execution_count": 31,
     "metadata": {},
     "output_type": "execute_result"
    }
   ],
   "source": [
    "combined_df['temperature'].min(), combined_df['temperature'].max()"
   ]
  },
  {
   "cell_type": "code",
   "execution_count": 32,
   "id": "9c72a300",
   "metadata": {},
   "outputs": [
    {
     "data": {
      "image/png": "[encoded data removed]",
      "text/plain": [
       "<Figure size 640x480 with 1 Axes>"
      ]
     },
     "metadata": {},
     "output_type": "display_data"
    }
   ],
   "source": [
    "plt.hist(combined_df['temperature'])\n",
    "plt.show()"
   ]
  },
  {
   "cell_type": "code",
   "execution_count": 33,
   "id": "5ec43da2",
   "metadata": {},
   "outputs": [
    {
     "data": {
      "text/plain": [
       "interval_length\n",
       "0-2.5 min       4381\n",
       "2.5 - 5 min     1700\n",
       "5 - 7.5 min     1262\n",
       "7.5 - 10 min    1082\n",
       "Name: count, dtype: int64"
      ]
     },
     "execution_count": 33,
     "metadata": {},
     "output_type": "execute_result"
    }
   ],
   "source": [
    "combined_df['interval_length'].value_counts()"
   ]
  },
  {
   "cell_type": "code",
   "execution_count": 34,
   "id": "10e53b18",
   "metadata": {},
   "outputs": [
    {
     "data": {
      "image/png": "[encoded data removed]",
      "text/plain": [
       "<Figure size 640x480 with 1 Axes>"
      ]
     },
     "metadata": {},
     "output_type": "display_data"
    }
   ],
   "source": [
    "plt.hist(combined_df['interval_length'])\n",
    "plt.show()"
   ]
  },
  {
   "cell_type": "code",
   "execution_count": 35,
   "id": "0b182b22",
   "metadata": {},
   "outputs": [
    {
     "data": {
      "text/plain": [
       "wind\n",
       "Light air movement (1-3 mph) smoke drifts     4040\n",
       "Calm (< 1 mph) smoke rises vertically         3055\n",
       "Light breeze (4-7 mph) wind felt on face      1197\n",
       "Gentle breeze (8-12 mph), leaves in motion     133\n",
       "Name: count, dtype: int64"
      ]
     },
     "execution_count": 35,
     "metadata": {},
     "output_type": "execute_result"
    }
   ],
   "source": [
    "combined_df['wind'].value_counts()"
   ]
  },
  {
   "cell_type": "code",
   "execution_count": 39,
   "id": "0a7d9bde",
   "metadata": {},
   "outputs": [
    {
     "data": {
      "text/plain": [
       "sky\n",
       "Partly Cloudy          2961\n",
       "Clear or Few Clouds    2938\n",
       "Cloudy/Overcast        1838\n",
       "Fog                     426\n",
       "Mist/Drizzle            262\n",
       "Name: count, dtype: int64"
      ]
     },
     "execution_count": 39,
     "metadata": {},
     "output_type": "execute_result"
    }
   ],
   "source": [
    "combined_df['sky'].value_counts()"
   ]
  },
  {
   "cell_type": "code",
   "execution_count": 40,
   "id": "de287bdf",
   "metadata": {},
   "outputs": [
    {
     "data": {
      "image/png": "[encoded data removed]",
      "text/plain": [
       "<Figure size 640x480 with 1 Axes>"
      ]
     },
     "metadata": {},
     "output_type": "display_data"
    }
   ],
   "source": [
    "x = [2961,2938,1838,426,262]\n",
    "plt.pie(x, labels=['Partly Cloudy', 'Clear or Few Clouds','Cloudy/Overcast','Fog','Mist/Drizzle'], explode=[0,0,0,0,0])\n",
    "plt.show()"
   ]
  },
  {
   "cell_type": "code",
   "execution_count": 41,
   "id": "34c46f65",
   "metadata": {},
   "outputs": [
    {
     "data": {
      "image/png": "[encoded data removed]",
      "text/plain": [
       "<Figure size 640x480 with 1 Axes>"
      ]
     },
     "metadata": {},
     "output_type": "display_data"
    }
   ],
   "source": [
    "sns.scatterplot(data=combined_df, x=\"temperature\", y=\"humidity\")\n",
    "plt.show()"
   ]
  },
  {
   "cell_type": "code",
   "execution_count": 42,
   "id": "d7c52e96",
   "metadata": {},
   "outputs": [
    {
     "data": {
      "image/png": "[encoded data removed]",
      "text/plain": [
       "<Figure size 640x480 with 1 Axes>"
      ]
     },
     "metadata": {},
     "output_type": "display_data"
    }
   ],
   "source": [
    "sns.countplot(data = combined_df, x = \"id_method\")\n",
    "plt.show()"
   ]
  },
  {
   "cell_type": "code",
   "execution_count": 43,
   "id": "9ba8b519",
   "metadata": {},
   "outputs": [
    {
     "data": {
      "text/plain": [
       "Text(0.5, 1.0, 'Observers Unit Count')"
      ]
     },
     "execution_count": 43,
     "metadata": {},
     "output_type": "execute_result"
    },
    {
     "data": {
      "image/png": "[encoded data removed]",
      "text/plain": [
       "<Figure size 640x480 with 1 Axes>"
      ]
     },
     "metadata": {},
     "output_type": "display_data"
    }
   ],
   "source": [
    "admin_unit_code = combined_df['admin_unit_code'].index.values\n",
    "sns.barplot(data = combined_df,x = \"observer\", y = admin_unit_code)\n",
    "plt.xlabel('Observer')\n",
    "plt.ylabel('Units')\n",
    "plt.title('Observers Unit Count')"
   ]
  },
  {
   "cell_type": "code",
   "execution_count": null,
   "id": "4f34d7c2",
   "metadata": {},
   "outputs": [],
   "source": [
    "import pymysql\n",
    "import mysql.connector\n",
    "from mysql.connector import Error\n",
    "\n",
    "connection = pymysql.connect(\n",
    "        host='',\n",
    "        user='',\n",
    "        password='',\n",
    "        database='',\n",
    "        charset='utf8mb4',\n",
    "        cursorclass=pymysql.cursors.DictCursor\n",
    "    )\n",
    "\n",
    "\n",
    "cursor = connection.cursor()\n",
    "create_table_query =\"\"\"\n",
    "        CREATE TABLE IF NOT EXISTS Forest (\n",
    "                    id INT AUTO_INCREMENT PRIMARY KEY,\n",
    "                    Admin_Unit_Code VARCHAR(14),\n",
    "                    Site_Name VARCHAR(16),\n",
    "                    Plot_Name VARCHAR(19),\n",
    "                    Location_Type VARCHAR(16),\n",
    "                    `Year` INT,\n",
    "                    `Date` DATETIME,\n",
    "                    Start_Time VARCHAR(18),\n",
    "                    End_Time VARCHAR(18),\n",
    "                    Observer VARCHAR(26),\n",
    "                    `Visit` INT,\n",
    "                    Interval_Length VARCHAR(22),\n",
    "                    ID_Method VARCHAR(23),\n",
    "                    `Distance` VARCHAR(25),\n",
    "                    Flyover_Observed BOOLEAN,\n",
    "                    Common_Name VARCHAR(34),\n",
    "                    Scientific_Name VARCHAR(34),\n",
    "                    AcceptedTSN FLOAT,\n",
    "                    NPSTaxonCode INT,\n",
    "                    AOU_Code VARCHAR(14),\n",
    "                    PIF_Watchlist_Status BOOLEAN,\n",
    "                    Regional_Stewardship_Status BOOLEAN,\n",
    "                    Temperature FLOAT,\n",
    "                    Humidity FLOAT,\n",
    "                    Sky VARCHAR(29),\n",
    "                    Wind VARCHAR(51),\n",
    "                    Disturbance VARCHAR(34),\n",
    "                    Initial_Three_Min_Cnt BOOLEAN\n",
    "                ) \n",
    "\"\"\"\n",
    "cursor.execute(create_table_query)\n",
    "\n",
    "\n",
    "insert_query ='''\n",
    "        INSERT INTO Forest (Admin_Unit_Code, Site_Name, Plot_Name, Location_Type,\n",
    "                        `Year`, `Date`, Start_Time, End_Time, Observer, `Visit`, Interval_Length,\n",
    "                        ID_Method, `Distance`, Flyover_Observed, Common_Name, Scientific_Name,\n",
    "                        AcceptedTSN, NPSTaxonCode, AOU_Code, PIF_Watchlist_Status,\n",
    "                        Regional_Stewardship_Status, Temperature, Humidity, Sky, Wind,\n",
    "                        Disturbance, Initial_Three_Min_Cnt) \n",
    "                        VALUES (%s, %s, %s, %s, %s,\n",
    "                        %s, %s, %s, %s, %s, %s, %s,\n",
    "                        %s, %s, %s, %s, %s, %s,\n",
    "                        %s, %s, %s, %s,\n",
    "                        %s, %s, %s, %s, %s)\n",
    "\n",
    "'''\n",
    "\n",
    "combined_df.dropna(inplace=True)\n",
    "\n",
    "combined_df[(combined_df['date']!='nan')]\n",
    "\n",
    "df1 = combined_df.where((pd.notnull(combined_df)), None)\n",
    "\n",
    "\n",
    "data_to_insert = df1[[\n",
    "            'admin_unit_code', 'site_name', 'plot_name', 'location_type', 'year', 'date',\n",
    "            'start_time', 'end_time', 'observer', 'visit', 'interval_length', 'id_method',\n",
    "            'distance', 'flyover_observed', 'common_name', 'scientific_name', 'acceptedtsn',\n",
    "            'npstaxoncode', 'aou_code', 'pif_watchlist_status', 'regional_stewardship_status',\n",
    "            'temperature', 'humidity', 'sky', 'wind', 'disturbance', 'initial_three_min_cnt'\n",
    "]].values.tolist()\n",
    "\n",
    "\n",
    "cursor.executemany(insert_query, data_to_insert)\n",
    "connection.commit()"
   ]
  },
  {
   "cell_type": "code",
   "execution_count": 120,
   "id": "f1f38d79",
   "metadata": {},
   "outputs": [],
   "source": [
    "connection.close()"
   ]
  }
 ],
 "metadata": {
  "kernelspec": {
   "display_name": "base",
   "language": "python",
   "name": "python3"
  },
  "language_info": {
   "codemirror_mode": {
    "name": "ipython",
    "version": 3
   },
   "file_extension": ".py",
   "mimetype": "text/x-python",
   "name": "python",
   "nbconvert_exporter": "python",
   "pygments_lexer": "ipython3",
   "version": "3.12.7"
  }
 },
 "nbformat": 4,
 "nbformat_minor": 5
}
